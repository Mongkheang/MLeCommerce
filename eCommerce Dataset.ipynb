{
 "cells": [
  {
   "cell_type": "code",
   "execution_count": 231,
   "id": "e05f053f",
   "metadata": {},
   "outputs": [],
   "source": [
    "# Import the libraries\n",
    "import pandas as pd\n",
    "import numpy as np\n",
    "import sklearn\n",
    "import matplotlib.pyplot as plt\n",
    "import seaborn as sns\n",
    "from sklearn.preprocessing import LabelEncoder\n",
    "from sklearn.preprocessing import StandardScaler\n",
    "from sklearn.metrics import classification_report\n",
    "from sklearn.linear_model import LogisticRegression\n",
    "from sklearn.model_selection import train_test_split\n",
    "from sklearn.svm import SVC\n",
    "\n",
    "from sklearn.dummy import DummyClassifier\n",
    "import matplotlib.patches as mpatches\n",
    "%matplotlib inline\n",
    "from sklearn.ensemble import RandomForestClassifier\n",
    "from sklearn.linear_model import LinearRegression\n",
    "from sklearn.linear_model import LogisticRegression\n",
    "from sklearn.discriminant_analysis import LinearDiscriminantAnalysis\n",
    "from sklearn.tree import DecisionTreeClassifier\n",
    "from sklearn.naive_bayes import GaussianNB\n",
    "from sklearn.neighbors import KNeighborsClassifier\n",
    "from sklearn.metrics import confusion_matrix\n",
    "from sklearn.metrics import roc_curve\n",
    "from sklearn.metrics import accuracy_score, precision_score, recall_score, roc_auc_score, f1_score\n",
    "from sklearn.metrics import roc_auc_score, roc_curve\n",
    "from IPython.display import display\n",
    "\n",
    "from sklearn.decomposition import PCA\n",
    "from sklearn.pipeline import Pipeline\n",
    "from sklearn.model_selection import GridSearchCV"
   ]
  },
  {
   "cell_type": "code",
   "execution_count": 232,
   "id": "759a4a93",
   "metadata": {
    "scrolled": false
   },
   "outputs": [],
   "source": [
    "df = pd.read_excel(\"ECommerceDataset/E Commerce Dataset.xlsx\",\"E Comm\")"
   ]
  },
  {
   "cell_type": "code",
   "execution_count": 233,
   "id": "cdcd46e6",
   "metadata": {
    "scrolled": false
   },
   "outputs": [
    {
     "data": {
      "text/plain": [
       "CustomerID                     0\n",
       "Churn                          0\n",
       "Tenure                         0\n",
       "PreferredLoginDevice           0\n",
       "CityTier                       0\n",
       "WarehouseToHome                0\n",
       "PreferredPaymentMode           0\n",
       "Gender                         0\n",
       "HourSpendOnApp                 0\n",
       "NumberOfDeviceRegistered       0\n",
       "PreferedOrderCat               0\n",
       "SatisfactionScore              0\n",
       "MaritalStatus                  0\n",
       "NumberOfAddress                0\n",
       "Complain                       0\n",
       "OrderAmountHikeFromlastYear    0\n",
       "CouponUsed                     0\n",
       "OrderCount                     0\n",
       "DaySinceLastOrder              0\n",
       "CashbackAmount                 0\n",
       "dtype: int64"
      ]
     },
     "execution_count": 233,
     "metadata": {},
     "output_type": "execute_result"
    }
   ],
   "source": [
    "df = pd.read_excel(\"ECommerceDataset/E Commerce Dataset.xlsx\",\"E Comm\")\n",
    "df = pd.DataFrame(df)\n",
    "df = df.fillna(df.mean())\n",
    "df.isnull().sum()"
   ]
  },
  {
   "cell_type": "code",
   "execution_count": 234,
   "id": "85df9a90",
   "metadata": {},
   "outputs": [
    {
     "data": {
      "text/html": [
       "<div>\n",
       "<style scoped>\n",
       "    .dataframe tbody tr th:only-of-type {\n",
       "        vertical-align: middle;\n",
       "    }\n",
       "\n",
       "    .dataframe tbody tr th {\n",
       "        vertical-align: top;\n",
       "    }\n",
       "\n",
       "    .dataframe thead th {\n",
       "        text-align: right;\n",
       "    }\n",
       "</style>\n",
       "<table border=\"1\" class=\"dataframe\">\n",
       "  <thead>\n",
       "    <tr style=\"text-align: right;\">\n",
       "      <th></th>\n",
       "      <th>CustomerID</th>\n",
       "      <th>Churn</th>\n",
       "      <th>Tenure</th>\n",
       "      <th>PreferredLoginDevice</th>\n",
       "      <th>CityTier</th>\n",
       "      <th>WarehouseToHome</th>\n",
       "      <th>PreferredPaymentMode</th>\n",
       "      <th>Gender</th>\n",
       "      <th>HourSpendOnApp</th>\n",
       "      <th>NumberOfDeviceRegistered</th>\n",
       "      <th>PreferedOrderCat</th>\n",
       "      <th>SatisfactionScore</th>\n",
       "      <th>MaritalStatus</th>\n",
       "      <th>NumberOfAddress</th>\n",
       "      <th>Complain</th>\n",
       "      <th>OrderAmountHikeFromlastYear</th>\n",
       "      <th>CouponUsed</th>\n",
       "      <th>OrderCount</th>\n",
       "      <th>DaySinceLastOrder</th>\n",
       "      <th>CashbackAmount</th>\n",
       "    </tr>\n",
       "  </thead>\n",
       "  <tbody>\n",
       "    <tr>\n",
       "      <th>0</th>\n",
       "      <td>55535</td>\n",
       "      <td>0</td>\n",
       "      <td>61.0</td>\n",
       "      <td>Mobile Phone</td>\n",
       "      <td>3</td>\n",
       "      <td>28.0</td>\n",
       "      <td>Debit Card</td>\n",
       "      <td>Female</td>\n",
       "      <td>4.0</td>\n",
       "      <td>4</td>\n",
       "      <td>Grocery</td>\n",
       "      <td>1</td>\n",
       "      <td>Married</td>\n",
       "      <td>6</td>\n",
       "      <td>1</td>\n",
       "      <td>15.707922</td>\n",
       "      <td>1.000000</td>\n",
       "      <td>2.0</td>\n",
       "      <td>1.0</td>\n",
       "      <td>303.75</td>\n",
       "    </tr>\n",
       "    <tr>\n",
       "      <th>1</th>\n",
       "      <td>52720</td>\n",
       "      <td>0</td>\n",
       "      <td>60.0</td>\n",
       "      <td>Mobile Phone</td>\n",
       "      <td>3</td>\n",
       "      <td>27.0</td>\n",
       "      <td>Debit Card</td>\n",
       "      <td>Female</td>\n",
       "      <td>3.0</td>\n",
       "      <td>3</td>\n",
       "      <td>Grocery</td>\n",
       "      <td>1</td>\n",
       "      <td>Married</td>\n",
       "      <td>5</td>\n",
       "      <td>1</td>\n",
       "      <td>13.000000</td>\n",
       "      <td>1.751023</td>\n",
       "      <td>1.0</td>\n",
       "      <td>0.0</td>\n",
       "      <td>278.75</td>\n",
       "    </tr>\n",
       "    <tr>\n",
       "      <th>2</th>\n",
       "      <td>53744</td>\n",
       "      <td>0</td>\n",
       "      <td>51.0</td>\n",
       "      <td>Mobile Phone</td>\n",
       "      <td>1</td>\n",
       "      <td>7.0</td>\n",
       "      <td>Debit Card</td>\n",
       "      <td>Male</td>\n",
       "      <td>4.0</td>\n",
       "      <td>2</td>\n",
       "      <td>Laptop &amp; Accessory</td>\n",
       "      <td>3</td>\n",
       "      <td>Divorced</td>\n",
       "      <td>2</td>\n",
       "      <td>0</td>\n",
       "      <td>25.000000</td>\n",
       "      <td>2.000000</td>\n",
       "      <td>3.0</td>\n",
       "      <td>9.0</td>\n",
       "      <td>174.00</td>\n",
       "    </tr>\n",
       "    <tr>\n",
       "      <th>3</th>\n",
       "      <td>50929</td>\n",
       "      <td>0</td>\n",
       "      <td>50.0</td>\n",
       "      <td>Phone</td>\n",
       "      <td>1</td>\n",
       "      <td>6.0</td>\n",
       "      <td>Debit Card</td>\n",
       "      <td>Male</td>\n",
       "      <td>3.0</td>\n",
       "      <td>1</td>\n",
       "      <td>Laptop &amp; Accessory</td>\n",
       "      <td>3</td>\n",
       "      <td>Divorced</td>\n",
       "      <td>1</td>\n",
       "      <td>0</td>\n",
       "      <td>24.000000</td>\n",
       "      <td>1.000000</td>\n",
       "      <td>2.0</td>\n",
       "      <td>8.0</td>\n",
       "      <td>149.00</td>\n",
       "    </tr>\n",
       "    <tr>\n",
       "      <th>4</th>\n",
       "      <td>52848</td>\n",
       "      <td>0</td>\n",
       "      <td>31.0</td>\n",
       "      <td>Mobile Phone</td>\n",
       "      <td>1</td>\n",
       "      <td>16.0</td>\n",
       "      <td>Credit Card</td>\n",
       "      <td>Female</td>\n",
       "      <td>4.0</td>\n",
       "      <td>5</td>\n",
       "      <td>Mobile Phone</td>\n",
       "      <td>4</td>\n",
       "      <td>Divorced</td>\n",
       "      <td>6</td>\n",
       "      <td>1</td>\n",
       "      <td>21.000000</td>\n",
       "      <td>2.000000</td>\n",
       "      <td>2.0</td>\n",
       "      <td>1.0</td>\n",
       "      <td>158.46</td>\n",
       "    </tr>\n",
       "  </tbody>\n",
       "</table>\n",
       "</div>"
      ],
      "text/plain": [
       "   CustomerID  Churn  Tenure PreferredLoginDevice  CityTier  WarehouseToHome  \\\n",
       "0       55535      0    61.0         Mobile Phone         3             28.0   \n",
       "1       52720      0    60.0         Mobile Phone         3             27.0   \n",
       "2       53744      0    51.0         Mobile Phone         1              7.0   \n",
       "3       50929      0    50.0                Phone         1              6.0   \n",
       "4       52848      0    31.0         Mobile Phone         1             16.0   \n",
       "\n",
       "  PreferredPaymentMode  Gender  HourSpendOnApp  NumberOfDeviceRegistered  \\\n",
       "0           Debit Card  Female             4.0                         4   \n",
       "1           Debit Card  Female             3.0                         3   \n",
       "2           Debit Card    Male             4.0                         2   \n",
       "3           Debit Card    Male             3.0                         1   \n",
       "4          Credit Card  Female             4.0                         5   \n",
       "\n",
       "     PreferedOrderCat  SatisfactionScore MaritalStatus  NumberOfAddress  \\\n",
       "0             Grocery                  1       Married                6   \n",
       "1             Grocery                  1       Married                5   \n",
       "2  Laptop & Accessory                  3      Divorced                2   \n",
       "3  Laptop & Accessory                  3      Divorced                1   \n",
       "4        Mobile Phone                  4      Divorced                6   \n",
       "\n",
       "   Complain  OrderAmountHikeFromlastYear  CouponUsed  OrderCount  \\\n",
       "0         1                    15.707922    1.000000         2.0   \n",
       "1         1                    13.000000    1.751023         1.0   \n",
       "2         0                    25.000000    2.000000         3.0   \n",
       "3         0                    24.000000    1.000000         2.0   \n",
       "4         1                    21.000000    2.000000         2.0   \n",
       "\n",
       "   DaySinceLastOrder  CashbackAmount  \n",
       "0                1.0          303.75  \n",
       "1                0.0          278.75  \n",
       "2                9.0          174.00  \n",
       "3                8.0          149.00  \n",
       "4                1.0          158.46  "
      ]
     },
     "execution_count": 234,
     "metadata": {},
     "output_type": "execute_result"
    }
   ],
   "source": [
    "df.head()"
   ]
  },
  {
   "cell_type": "code",
   "execution_count": 235,
   "id": "5c912182",
   "metadata": {},
   "outputs": [
    {
     "data": {
      "text/html": [
       "<div>\n",
       "<style scoped>\n",
       "    .dataframe tbody tr th:only-of-type {\n",
       "        vertical-align: middle;\n",
       "    }\n",
       "\n",
       "    .dataframe tbody tr th {\n",
       "        vertical-align: top;\n",
       "    }\n",
       "\n",
       "    .dataframe thead th {\n",
       "        text-align: right;\n",
       "    }\n",
       "</style>\n",
       "<table border=\"1\" class=\"dataframe\">\n",
       "  <thead>\n",
       "    <tr style=\"text-align: right;\">\n",
       "      <th></th>\n",
       "      <th>CustomerID</th>\n",
       "      <th>Churn</th>\n",
       "      <th>Tenure</th>\n",
       "      <th>PreferredLoginDevice</th>\n",
       "      <th>CityTier</th>\n",
       "      <th>WarehouseToHome</th>\n",
       "      <th>PreferredPaymentMode</th>\n",
       "      <th>Gender</th>\n",
       "      <th>HourSpendOnApp</th>\n",
       "      <th>NumberOfDeviceRegistered</th>\n",
       "      <th>PreferedOrderCat</th>\n",
       "      <th>SatisfactionScore</th>\n",
       "      <th>MaritalStatus</th>\n",
       "      <th>NumberOfAddress</th>\n",
       "      <th>Complain</th>\n",
       "      <th>OrderAmountHikeFromlastYear</th>\n",
       "      <th>CouponUsed</th>\n",
       "      <th>OrderCount</th>\n",
       "      <th>DaySinceLastOrder</th>\n",
       "      <th>CashbackAmount</th>\n",
       "    </tr>\n",
       "  </thead>\n",
       "  <tbody>\n",
       "    <tr>\n",
       "      <th>5625</th>\n",
       "      <td>52757</td>\n",
       "      <td>0</td>\n",
       "      <td>10.189899</td>\n",
       "      <td>Phone</td>\n",
       "      <td>2</td>\n",
       "      <td>8.0</td>\n",
       "      <td>UPI</td>\n",
       "      <td>Female</td>\n",
       "      <td>2.0</td>\n",
       "      <td>3</td>\n",
       "      <td>Mobile</td>\n",
       "      <td>4</td>\n",
       "      <td>Married</td>\n",
       "      <td>5</td>\n",
       "      <td>0</td>\n",
       "      <td>14.0</td>\n",
       "      <td>0.0</td>\n",
       "      <td>1.0</td>\n",
       "      <td>2.0</td>\n",
       "      <td>121.87</td>\n",
       "    </tr>\n",
       "    <tr>\n",
       "      <th>5626</th>\n",
       "      <td>52761</td>\n",
       "      <td>0</td>\n",
       "      <td>10.189899</td>\n",
       "      <td>Computer</td>\n",
       "      <td>1</td>\n",
       "      <td>7.0</td>\n",
       "      <td>CC</td>\n",
       "      <td>Male</td>\n",
       "      <td>2.0</td>\n",
       "      <td>4</td>\n",
       "      <td>Mobile</td>\n",
       "      <td>3</td>\n",
       "      <td>Married</td>\n",
       "      <td>2</td>\n",
       "      <td>0</td>\n",
       "      <td>12.0</td>\n",
       "      <td>0.0</td>\n",
       "      <td>1.0</td>\n",
       "      <td>0.0</td>\n",
       "      <td>120.08</td>\n",
       "    </tr>\n",
       "    <tr>\n",
       "      <th>5627</th>\n",
       "      <td>52774</td>\n",
       "      <td>0</td>\n",
       "      <td>10.189899</td>\n",
       "      <td>Phone</td>\n",
       "      <td>3</td>\n",
       "      <td>7.0</td>\n",
       "      <td>CC</td>\n",
       "      <td>Male</td>\n",
       "      <td>3.0</td>\n",
       "      <td>4</td>\n",
       "      <td>Mobile</td>\n",
       "      <td>4</td>\n",
       "      <td>Married</td>\n",
       "      <td>1</td>\n",
       "      <td>0</td>\n",
       "      <td>14.0</td>\n",
       "      <td>2.0</td>\n",
       "      <td>2.0</td>\n",
       "      <td>2.0</td>\n",
       "      <td>122.69</td>\n",
       "    </tr>\n",
       "    <tr>\n",
       "      <th>5628</th>\n",
       "      <td>52784</td>\n",
       "      <td>1</td>\n",
       "      <td>10.189899</td>\n",
       "      <td>Computer</td>\n",
       "      <td>3</td>\n",
       "      <td>15.0</td>\n",
       "      <td>E wallet</td>\n",
       "      <td>Male</td>\n",
       "      <td>2.0</td>\n",
       "      <td>3</td>\n",
       "      <td>Mobile Phone</td>\n",
       "      <td>5</td>\n",
       "      <td>Married</td>\n",
       "      <td>2</td>\n",
       "      <td>0</td>\n",
       "      <td>19.0</td>\n",
       "      <td>1.0</td>\n",
       "      <td>1.0</td>\n",
       "      <td>0.0</td>\n",
       "      <td>117.90</td>\n",
       "    </tr>\n",
       "    <tr>\n",
       "      <th>5629</th>\n",
       "      <td>52803</td>\n",
       "      <td>0</td>\n",
       "      <td>10.189899</td>\n",
       "      <td>Mobile Phone</td>\n",
       "      <td>1</td>\n",
       "      <td>8.0</td>\n",
       "      <td>CC</td>\n",
       "      <td>Female</td>\n",
       "      <td>3.0</td>\n",
       "      <td>3</td>\n",
       "      <td>Mobile</td>\n",
       "      <td>3</td>\n",
       "      <td>Married</td>\n",
       "      <td>3</td>\n",
       "      <td>0</td>\n",
       "      <td>14.0</td>\n",
       "      <td>0.0</td>\n",
       "      <td>1.0</td>\n",
       "      <td>2.0</td>\n",
       "      <td>120.01</td>\n",
       "    </tr>\n",
       "  </tbody>\n",
       "</table>\n",
       "</div>"
      ],
      "text/plain": [
       "      CustomerID  Churn     Tenure PreferredLoginDevice  CityTier  \\\n",
       "5625       52757      0  10.189899                Phone         2   \n",
       "5626       52761      0  10.189899             Computer         1   \n",
       "5627       52774      0  10.189899                Phone         3   \n",
       "5628       52784      1  10.189899             Computer         3   \n",
       "5629       52803      0  10.189899         Mobile Phone         1   \n",
       "\n",
       "      WarehouseToHome PreferredPaymentMode  Gender  HourSpendOnApp  \\\n",
       "5625              8.0                  UPI  Female             2.0   \n",
       "5626              7.0                   CC    Male             2.0   \n",
       "5627              7.0                   CC    Male             3.0   \n",
       "5628             15.0             E wallet    Male             2.0   \n",
       "5629              8.0                   CC  Female             3.0   \n",
       "\n",
       "      NumberOfDeviceRegistered PreferedOrderCat  SatisfactionScore  \\\n",
       "5625                         3           Mobile                  4   \n",
       "5626                         4           Mobile                  3   \n",
       "5627                         4           Mobile                  4   \n",
       "5628                         3     Mobile Phone                  5   \n",
       "5629                         3           Mobile                  3   \n",
       "\n",
       "     MaritalStatus  NumberOfAddress  Complain  OrderAmountHikeFromlastYear  \\\n",
       "5625       Married                5         0                         14.0   \n",
       "5626       Married                2         0                         12.0   \n",
       "5627       Married                1         0                         14.0   \n",
       "5628       Married                2         0                         19.0   \n",
       "5629       Married                3         0                         14.0   \n",
       "\n",
       "      CouponUsed  OrderCount  DaySinceLastOrder  CashbackAmount  \n",
       "5625         0.0         1.0                2.0          121.87  \n",
       "5626         0.0         1.0                0.0          120.08  \n",
       "5627         2.0         2.0                2.0          122.69  \n",
       "5628         1.0         1.0                0.0          117.90  \n",
       "5629         0.0         1.0                2.0          120.01  "
      ]
     },
     "execution_count": 235,
     "metadata": {},
     "output_type": "execute_result"
    }
   ],
   "source": [
    "df.tail()"
   ]
  },
  {
   "cell_type": "code",
   "execution_count": 236,
   "id": "832b4afd",
   "metadata": {
    "scrolled": true
   },
   "outputs": [
    {
     "name": "stdout",
     "output_type": "stream",
     "text": [
      "<class 'pandas.core.frame.DataFrame'>\n",
      "RangeIndex: 5630 entries, 0 to 5629\n",
      "Data columns (total 20 columns):\n",
      " #   Column                       Non-Null Count  Dtype  \n",
      "---  ------                       --------------  -----  \n",
      " 0   CustomerID                   5630 non-null   int64  \n",
      " 1   Churn                        5630 non-null   int64  \n",
      " 2   Tenure                       5630 non-null   float64\n",
      " 3   PreferredLoginDevice         5630 non-null   object \n",
      " 4   CityTier                     5630 non-null   int64  \n",
      " 5   WarehouseToHome              5630 non-null   float64\n",
      " 6   PreferredPaymentMode         5630 non-null   object \n",
      " 7   Gender                       5630 non-null   object \n",
      " 8   HourSpendOnApp               5630 non-null   float64\n",
      " 9   NumberOfDeviceRegistered     5630 non-null   int64  \n",
      " 10  PreferedOrderCat             5630 non-null   object \n",
      " 11  SatisfactionScore            5630 non-null   int64  \n",
      " 12  MaritalStatus                5630 non-null   object \n",
      " 13  NumberOfAddress              5630 non-null   int64  \n",
      " 14  Complain                     5630 non-null   int64  \n",
      " 15  OrderAmountHikeFromlastYear  5630 non-null   float64\n",
      " 16  CouponUsed                   5630 non-null   float64\n",
      " 17  OrderCount                   5630 non-null   float64\n",
      " 18  DaySinceLastOrder            5630 non-null   float64\n",
      " 19  CashbackAmount               5630 non-null   float64\n",
      "dtypes: float64(8), int64(7), object(5)\n",
      "memory usage: 879.8+ KB\n"
     ]
    }
   ],
   "source": [
    "df.info()"
   ]
  },
  {
   "cell_type": "code",
   "execution_count": 237,
   "id": "dc41b699",
   "metadata": {},
   "outputs": [
    {
     "data": {
      "text/plain": [
       "array(['CustomerID', 'Churn', 'Tenure', 'PreferredLoginDevice',\n",
       "       'CityTier', 'WarehouseToHome', 'PreferredPaymentMode', 'Gender',\n",
       "       'HourSpendOnApp', 'NumberOfDeviceRegistered', 'PreferedOrderCat',\n",
       "       'SatisfactionScore', 'MaritalStatus', 'NumberOfAddress',\n",
       "       'Complain', 'OrderAmountHikeFromlastYear', 'CouponUsed',\n",
       "       'OrderCount', 'DaySinceLastOrder', 'CashbackAmount'], dtype=object)"
      ]
     },
     "execution_count": 237,
     "metadata": {},
     "output_type": "execute_result"
    }
   ],
   "source": [
    "# Show all of the columns\n",
    "df.columns.values"
   ]
  },
  {
   "cell_type": "code",
   "execution_count": 238,
   "id": "ef34fc9c",
   "metadata": {},
   "outputs": [
    {
     "data": {
      "text/plain": [
       "(5630, 20)"
      ]
     },
     "execution_count": 238,
     "metadata": {},
     "output_type": "execute_result"
    }
   ],
   "source": [
    "# Show the number of column and rows\n",
    "df.shape"
   ]
  },
  {
   "cell_type": "code",
   "execution_count": 239,
   "id": "88712bef",
   "metadata": {
    "scrolled": true
   },
   "outputs": [
    {
     "data": {
      "text/plain": [
       "Churn\n",
       "0    4682\n",
       "1     948\n",
       "dtype: int64"
      ]
     },
     "execution_count": 239,
     "metadata": {},
     "output_type": "execute_result"
    }
   ],
   "source": [
    "# The Numbers of \"Churn\" Size\n",
    "df.groupby('Churn').size()"
   ]
  },
  {
   "cell_type": "code",
   "execution_count": 240,
   "id": "aaf4323b",
   "metadata": {},
   "outputs": [
    {
     "data": {
      "text/html": [
       "<div>\n",
       "<style scoped>\n",
       "    .dataframe tbody tr th:only-of-type {\n",
       "        vertical-align: middle;\n",
       "    }\n",
       "\n",
       "    .dataframe tbody tr th {\n",
       "        vertical-align: top;\n",
       "    }\n",
       "\n",
       "    .dataframe thead th {\n",
       "        text-align: right;\n",
       "    }\n",
       "</style>\n",
       "<table border=\"1\" class=\"dataframe\">\n",
       "  <thead>\n",
       "    <tr style=\"text-align: right;\">\n",
       "      <th></th>\n",
       "      <th>CustomerID</th>\n",
       "      <th>Churn</th>\n",
       "      <th>Tenure</th>\n",
       "      <th>CityTier</th>\n",
       "      <th>WarehouseToHome</th>\n",
       "      <th>HourSpendOnApp</th>\n",
       "      <th>NumberOfDeviceRegistered</th>\n",
       "      <th>SatisfactionScore</th>\n",
       "      <th>NumberOfAddress</th>\n",
       "      <th>Complain</th>\n",
       "      <th>OrderAmountHikeFromlastYear</th>\n",
       "      <th>CouponUsed</th>\n",
       "      <th>OrderCount</th>\n",
       "      <th>DaySinceLastOrder</th>\n",
       "      <th>CashbackAmount</th>\n",
       "    </tr>\n",
       "  </thead>\n",
       "  <tbody>\n",
       "    <tr>\n",
       "      <th>count</th>\n",
       "      <td>5630.000000</td>\n",
       "      <td>5630.000000</td>\n",
       "      <td>5630.000000</td>\n",
       "      <td>5630.000000</td>\n",
       "      <td>5630.000000</td>\n",
       "      <td>5630.000000</td>\n",
       "      <td>5630.000000</td>\n",
       "      <td>5630.000000</td>\n",
       "      <td>5630.000000</td>\n",
       "      <td>5630.000000</td>\n",
       "      <td>5630.000000</td>\n",
       "      <td>5630.000000</td>\n",
       "      <td>5630.000000</td>\n",
       "      <td>5630.000000</td>\n",
       "      <td>5630.000000</td>\n",
       "    </tr>\n",
       "    <tr>\n",
       "      <th>mean</th>\n",
       "      <td>52815.500000</td>\n",
       "      <td>0.168384</td>\n",
       "      <td>10.189899</td>\n",
       "      <td>1.654707</td>\n",
       "      <td>15.639896</td>\n",
       "      <td>2.931535</td>\n",
       "      <td>3.688988</td>\n",
       "      <td>3.066785</td>\n",
       "      <td>4.214032</td>\n",
       "      <td>0.284902</td>\n",
       "      <td>15.707922</td>\n",
       "      <td>1.751023</td>\n",
       "      <td>3.008004</td>\n",
       "      <td>4.543491</td>\n",
       "      <td>177.223030</td>\n",
       "    </tr>\n",
       "    <tr>\n",
       "      <th>std</th>\n",
       "      <td>1625.385339</td>\n",
       "      <td>0.374240</td>\n",
       "      <td>8.354164</td>\n",
       "      <td>0.915389</td>\n",
       "      <td>8.339095</td>\n",
       "      <td>0.705384</td>\n",
       "      <td>1.023999</td>\n",
       "      <td>1.380194</td>\n",
       "      <td>2.583586</td>\n",
       "      <td>0.451408</td>\n",
       "      <td>3.587926</td>\n",
       "      <td>1.851038</td>\n",
       "      <td>2.871521</td>\n",
       "      <td>3.553382</td>\n",
       "      <td>49.207036</td>\n",
       "    </tr>\n",
       "    <tr>\n",
       "      <th>min</th>\n",
       "      <td>50001.000000</td>\n",
       "      <td>0.000000</td>\n",
       "      <td>0.000000</td>\n",
       "      <td>1.000000</td>\n",
       "      <td>5.000000</td>\n",
       "      <td>0.000000</td>\n",
       "      <td>1.000000</td>\n",
       "      <td>1.000000</td>\n",
       "      <td>1.000000</td>\n",
       "      <td>0.000000</td>\n",
       "      <td>11.000000</td>\n",
       "      <td>0.000000</td>\n",
       "      <td>1.000000</td>\n",
       "      <td>0.000000</td>\n",
       "      <td>0.000000</td>\n",
       "    </tr>\n",
       "    <tr>\n",
       "      <th>25%</th>\n",
       "      <td>51408.250000</td>\n",
       "      <td>0.000000</td>\n",
       "      <td>3.000000</td>\n",
       "      <td>1.000000</td>\n",
       "      <td>9.000000</td>\n",
       "      <td>2.000000</td>\n",
       "      <td>3.000000</td>\n",
       "      <td>2.000000</td>\n",
       "      <td>2.000000</td>\n",
       "      <td>0.000000</td>\n",
       "      <td>13.000000</td>\n",
       "      <td>1.000000</td>\n",
       "      <td>1.000000</td>\n",
       "      <td>2.000000</td>\n",
       "      <td>145.770000</td>\n",
       "    </tr>\n",
       "    <tr>\n",
       "      <th>50%</th>\n",
       "      <td>52815.500000</td>\n",
       "      <td>0.000000</td>\n",
       "      <td>9.000000</td>\n",
       "      <td>1.000000</td>\n",
       "      <td>14.000000</td>\n",
       "      <td>3.000000</td>\n",
       "      <td>4.000000</td>\n",
       "      <td>3.000000</td>\n",
       "      <td>3.000000</td>\n",
       "      <td>0.000000</td>\n",
       "      <td>15.000000</td>\n",
       "      <td>1.000000</td>\n",
       "      <td>2.000000</td>\n",
       "      <td>4.000000</td>\n",
       "      <td>163.280000</td>\n",
       "    </tr>\n",
       "    <tr>\n",
       "      <th>75%</th>\n",
       "      <td>54222.750000</td>\n",
       "      <td>0.000000</td>\n",
       "      <td>15.000000</td>\n",
       "      <td>3.000000</td>\n",
       "      <td>20.000000</td>\n",
       "      <td>3.000000</td>\n",
       "      <td>4.000000</td>\n",
       "      <td>4.000000</td>\n",
       "      <td>6.000000</td>\n",
       "      <td>1.000000</td>\n",
       "      <td>18.000000</td>\n",
       "      <td>2.000000</td>\n",
       "      <td>3.008004</td>\n",
       "      <td>7.000000</td>\n",
       "      <td>196.392500</td>\n",
       "    </tr>\n",
       "    <tr>\n",
       "      <th>max</th>\n",
       "      <td>55630.000000</td>\n",
       "      <td>1.000000</td>\n",
       "      <td>61.000000</td>\n",
       "      <td>3.000000</td>\n",
       "      <td>127.000000</td>\n",
       "      <td>5.000000</td>\n",
       "      <td>6.000000</td>\n",
       "      <td>5.000000</td>\n",
       "      <td>22.000000</td>\n",
       "      <td>1.000000</td>\n",
       "      <td>26.000000</td>\n",
       "      <td>16.000000</td>\n",
       "      <td>16.000000</td>\n",
       "      <td>46.000000</td>\n",
       "      <td>324.990000</td>\n",
       "    </tr>\n",
       "  </tbody>\n",
       "</table>\n",
       "</div>"
      ],
      "text/plain": [
       "         CustomerID        Churn       Tenure     CityTier  WarehouseToHome  \\\n",
       "count   5630.000000  5630.000000  5630.000000  5630.000000      5630.000000   \n",
       "mean   52815.500000     0.168384    10.189899     1.654707        15.639896   \n",
       "std     1625.385339     0.374240     8.354164     0.915389         8.339095   \n",
       "min    50001.000000     0.000000     0.000000     1.000000         5.000000   \n",
       "25%    51408.250000     0.000000     3.000000     1.000000         9.000000   \n",
       "50%    52815.500000     0.000000     9.000000     1.000000        14.000000   \n",
       "75%    54222.750000     0.000000    15.000000     3.000000        20.000000   \n",
       "max    55630.000000     1.000000    61.000000     3.000000       127.000000   \n",
       "\n",
       "       HourSpendOnApp  NumberOfDeviceRegistered  SatisfactionScore  \\\n",
       "count     5630.000000               5630.000000        5630.000000   \n",
       "mean         2.931535                  3.688988           3.066785   \n",
       "std          0.705384                  1.023999           1.380194   \n",
       "min          0.000000                  1.000000           1.000000   \n",
       "25%          2.000000                  3.000000           2.000000   \n",
       "50%          3.000000                  4.000000           3.000000   \n",
       "75%          3.000000                  4.000000           4.000000   \n",
       "max          5.000000                  6.000000           5.000000   \n",
       "\n",
       "       NumberOfAddress     Complain  OrderAmountHikeFromlastYear   CouponUsed  \\\n",
       "count      5630.000000  5630.000000                  5630.000000  5630.000000   \n",
       "mean          4.214032     0.284902                    15.707922     1.751023   \n",
       "std           2.583586     0.451408                     3.587926     1.851038   \n",
       "min           1.000000     0.000000                    11.000000     0.000000   \n",
       "25%           2.000000     0.000000                    13.000000     1.000000   \n",
       "50%           3.000000     0.000000                    15.000000     1.000000   \n",
       "75%           6.000000     1.000000                    18.000000     2.000000   \n",
       "max          22.000000     1.000000                    26.000000    16.000000   \n",
       "\n",
       "        OrderCount  DaySinceLastOrder  CashbackAmount  \n",
       "count  5630.000000        5630.000000     5630.000000  \n",
       "mean      3.008004           4.543491      177.223030  \n",
       "std       2.871521           3.553382       49.207036  \n",
       "min       1.000000           0.000000        0.000000  \n",
       "25%       1.000000           2.000000      145.770000  \n",
       "50%       2.000000           4.000000      163.280000  \n",
       "75%       3.008004           7.000000      196.392500  \n",
       "max      16.000000          46.000000      324.990000  "
      ]
     },
     "execution_count": 240,
     "metadata": {},
     "output_type": "execute_result"
    }
   ],
   "source": [
    "# Show some statistics\n",
    "df.describe()"
   ]
  },
  {
   "cell_type": "code",
   "execution_count": 241,
   "id": "6b07dc3b",
   "metadata": {},
   "outputs": [
    {
     "name": "stderr",
     "output_type": "stream",
     "text": [
      "C:\\Users\\user\\anaconda3\\lib\\site-packages\\seaborn\\_decorators.py:36: FutureWarning: Pass the following variable as a keyword arg: x. From version 0.12, the only valid positional argument will be `data`, and passing other arguments without an explicit keyword will result in an error or misinterpretation.\n",
      "  warnings.warn(\n"
     ]
    },
    {
     "data": {
      "text/plain": [
       "<AxesSubplot:xlabel='Churn', ylabel='count'>"
      ]
     },
     "execution_count": 241,
     "metadata": {},
     "output_type": "execute_result"
    },
    {
     "data": {
      "image/png": "[encoded data removed]",
      "text/plain": [
       "<Figure size 432x288 with 1 Axes>"
      ]
     },
     "metadata": {
      "needs_background": "light"
     },
     "output_type": "display_data"
    }
   ],
   "source": [
    "# Visualize the count of customer churn\n",
    "sns.countplot(df['Churn'])"
   ]
  },
  {
   "cell_type": "code",
   "execution_count": 242,
   "id": "80290417",
   "metadata": {
    "scrolled": true
   },
   "outputs": [
    {
     "name": "stdout",
     "output_type": "stream",
     "text": [
      "83.16163410301954 % of customers stayed with the company.\n",
      "16.838365896980463 % of customers left with the company.\n"
     ]
    }
   ],
   "source": [
    "# What is the percentage of customers that are leaving?\n",
    "num_retained = df[df.Churn == 0].shape[0]\n",
    "num_churned = df[df.Churn== 1].shape[0]\n",
    "\n",
    "# Print the percentage of customer that stayed\n",
    "print(num_retained / (num_retained + num_churned) * 100, '% of customers stayed with the company.')\n",
    "\n",
    "# Print the percentage of customer that left\n",
    "print(num_churned / (num_retained + num_churned) * 100, '% of customers left with the company.')\n"
   ]
  },
  {
   "cell_type": "code",
   "execution_count": 243,
   "id": "fc6ec44e",
   "metadata": {},
   "outputs": [
    {
     "data": {
      "text/plain": [
       "<AxesSubplot:xlabel='Gender', ylabel='count'>"
      ]
     },
     "execution_count": 243,
     "metadata": {},
     "output_type": "execute_result"
    },
    {
     "data": {
      "image/png": "[encoded data removed]",
      "text/plain": [
       "<Figure size 432x288 with 1 Axes>"
      ]
     },
     "metadata": {
      "needs_background": "light"
     },
     "output_type": "display_data"
    }
   ],
   "source": [
    "# Visualize the churn count for both males and females\n",
    "sns.countplot(x='Gender', hue='Churn', data=df)"
   ]
  },
  {
   "cell_type": "code",
   "execution_count": 244,
   "id": "7f37da98",
   "metadata": {},
   "outputs": [
    {
     "data": {
      "text/plain": [
       "<AxesSubplot:xlabel='HourSpendOnApp', ylabel='count'>"
      ]
     },
     "execution_count": 244,
     "metadata": {},
     "output_type": "execute_result"
    },
    {
     "data": {
      "image/png": "[encoded data removed]",
      "text/plain": [
       "<Figure size 432x288 with 1 Axes>"
      ]
     },
     "metadata": {
      "needs_background": "light"
     },
     "output_type": "display_data"
    }
   ],
   "source": [
    "# Visualize the churn count for the HourSpendOnApp \n",
    "sns.countplot(x='HourSpendOnApp', hue='Churn', data = df)"
   ]
  },
  {
   "cell_type": "code",
   "execution_count": 245,
   "id": "824fdc72",
   "metadata": {},
   "outputs": [
    {
     "data": {
      "text/plain": [
       "array([<AxesSubplot:title={'center':'Tenure'}>,\n",
       "       <AxesSubplot:title={'center':'Churn'}>], dtype=object)"
      ]
     },
     "execution_count": 245,
     "metadata": {},
     "output_type": "execute_result"
    },
    {
     "data": {
      "image/png": "[encoded data removed]",
      "text/plain": [
       "<Figure size 2016x576 with 2 Axes>"
      ]
     },
     "metadata": {
      "needs_background": "light"
     },
     "output_type": "display_data"
    }
   ],
   "source": [
    "# Histogram of 'Tenure' and 'Churn'\n",
    "numerical_features = ['Tenure', 'Churn']\n",
    "fig, ax = plt.subplots(1, 2, figsize=(28,8))\n",
    "df[df.Churn == 0][numerical_features].hist(bins=20, color='blue', alpha=0.5, ax = ax)\n",
    "df[df.Churn == 1][numerical_features].hist(bins=20, color='orange', alpha=0.5, ax = ax)"
   ]
  },
  {
   "cell_type": "code",
   "execution_count": 246,
   "id": "3e5b6928",
   "metadata": {},
   "outputs": [],
   "source": [
    "# Remove unnecessary columns\n",
    "col = ['CustomerID', 'NumberOfAddress']\n",
    "clean_df = df.drop(col, axis = 1)"
   ]
  },
  {
   "cell_type": "code",
   "execution_count": 247,
   "id": "45854f44",
   "metadata": {},
   "outputs": [
    {
     "data": {
      "text/plain": [
       "(5630, 18)"
      ]
     },
     "execution_count": 247,
     "metadata": {},
     "output_type": "execute_result"
    }
   ],
   "source": [
    "# Look at the number of rows and columns in the dataset\n",
    "clean_df.shape"
   ]
  },
  {
   "cell_type": "code",
   "execution_count": 248,
   "id": "13a65fd6",
   "metadata": {
    "scrolled": true
   },
   "outputs": [
    {
     "data": {
      "text/plain": [
       "0        Debit Card\n",
       "1        Debit Card\n",
       "2        Debit Card\n",
       "3        Debit Card\n",
       "4       Credit Card\n",
       "           ...     \n",
       "5625            UPI\n",
       "5626             CC\n",
       "5627             CC\n",
       "5628       E wallet\n",
       "5629             CC\n",
       "Name: PreferredPaymentMode, Length: 5630, dtype: object"
      ]
     },
     "execution_count": 248,
     "metadata": {},
     "output_type": "execute_result"
    }
   ],
   "source": [
    "df['PreferredPaymentMode']"
   ]
  },
  {
   "cell_type": "code",
   "execution_count": 329,
   "id": "c4d42a9a",
   "metadata": {},
   "outputs": [],
   "source": [
    "clean_df['Gender'] = clean_df['Gender'].map({'Male': 1, 'Female': 0})\n",
    "clean_df = pd.get_dummies(clean_df, drop_first=True)"
   ]
  },
  {
   "cell_type": "code",
   "execution_count": 250,
   "id": "b723a880",
   "metadata": {},
   "outputs": [
    {
     "data": {
      "text/html": [
       "<div>\n",
       "<style scoped>\n",
       "    .dataframe tbody tr th:only-of-type {\n",
       "        vertical-align: middle;\n",
       "    }\n",
       "\n",
       "    .dataframe tbody tr th {\n",
       "        vertical-align: top;\n",
       "    }\n",
       "\n",
       "    .dataframe thead th {\n",
       "        text-align: right;\n",
       "    }\n",
       "</style>\n",
       "<table border=\"1\" class=\"dataframe\">\n",
       "  <thead>\n",
       "    <tr style=\"text-align: right;\">\n",
       "      <th></th>\n",
       "      <th>Churn</th>\n",
       "      <th>Tenure</th>\n",
       "      <th>CityTier</th>\n",
       "      <th>WarehouseToHome</th>\n",
       "      <th>Gender</th>\n",
       "      <th>HourSpendOnApp</th>\n",
       "      <th>NumberOfDeviceRegistered</th>\n",
       "      <th>SatisfactionScore</th>\n",
       "      <th>Complain</th>\n",
       "      <th>OrderAmountHikeFromlastYear</th>\n",
       "      <th>...</th>\n",
       "      <th>PreferredPaymentMode_Debit Card</th>\n",
       "      <th>PreferredPaymentMode_E wallet</th>\n",
       "      <th>PreferredPaymentMode_UPI</th>\n",
       "      <th>PreferedOrderCat_Grocery</th>\n",
       "      <th>PreferedOrderCat_Laptop &amp; Accessory</th>\n",
       "      <th>PreferedOrderCat_Mobile</th>\n",
       "      <th>PreferedOrderCat_Mobile Phone</th>\n",
       "      <th>PreferedOrderCat_Others</th>\n",
       "      <th>MaritalStatus_Married</th>\n",
       "      <th>MaritalStatus_Single</th>\n",
       "    </tr>\n",
       "  </thead>\n",
       "  <tbody>\n",
       "    <tr>\n",
       "      <th>0</th>\n",
       "      <td>0</td>\n",
       "      <td>61.0</td>\n",
       "      <td>3</td>\n",
       "      <td>28.0</td>\n",
       "      <td>0</td>\n",
       "      <td>4.0</td>\n",
       "      <td>4</td>\n",
       "      <td>1</td>\n",
       "      <td>1</td>\n",
       "      <td>15.707922</td>\n",
       "      <td>...</td>\n",
       "      <td>1</td>\n",
       "      <td>0</td>\n",
       "      <td>0</td>\n",
       "      <td>1</td>\n",
       "      <td>0</td>\n",
       "      <td>0</td>\n",
       "      <td>0</td>\n",
       "      <td>0</td>\n",
       "      <td>1</td>\n",
       "      <td>0</td>\n",
       "    </tr>\n",
       "    <tr>\n",
       "      <th>1</th>\n",
       "      <td>0</td>\n",
       "      <td>60.0</td>\n",
       "      <td>3</td>\n",
       "      <td>27.0</td>\n",
       "      <td>0</td>\n",
       "      <td>3.0</td>\n",
       "      <td>3</td>\n",
       "      <td>1</td>\n",
       "      <td>1</td>\n",
       "      <td>13.000000</td>\n",
       "      <td>...</td>\n",
       "      <td>1</td>\n",
       "      <td>0</td>\n",
       "      <td>0</td>\n",
       "      <td>1</td>\n",
       "      <td>0</td>\n",
       "      <td>0</td>\n",
       "      <td>0</td>\n",
       "      <td>0</td>\n",
       "      <td>1</td>\n",
       "      <td>0</td>\n",
       "    </tr>\n",
       "    <tr>\n",
       "      <th>2</th>\n",
       "      <td>0</td>\n",
       "      <td>51.0</td>\n",
       "      <td>1</td>\n",
       "      <td>7.0</td>\n",
       "      <td>1</td>\n",
       "      <td>4.0</td>\n",
       "      <td>2</td>\n",
       "      <td>3</td>\n",
       "      <td>0</td>\n",
       "      <td>25.000000</td>\n",
       "      <td>...</td>\n",
       "      <td>1</td>\n",
       "      <td>0</td>\n",
       "      <td>0</td>\n",
       "      <td>0</td>\n",
       "      <td>1</td>\n",
       "      <td>0</td>\n",
       "      <td>0</td>\n",
       "      <td>0</td>\n",
       "      <td>0</td>\n",
       "      <td>0</td>\n",
       "    </tr>\n",
       "    <tr>\n",
       "      <th>3</th>\n",
       "      <td>0</td>\n",
       "      <td>50.0</td>\n",
       "      <td>1</td>\n",
       "      <td>6.0</td>\n",
       "      <td>1</td>\n",
       "      <td>3.0</td>\n",
       "      <td>1</td>\n",
       "      <td>3</td>\n",
       "      <td>0</td>\n",
       "      <td>24.000000</td>\n",
       "      <td>...</td>\n",
       "      <td>1</td>\n",
       "      <td>0</td>\n",
       "      <td>0</td>\n",
       "      <td>0</td>\n",
       "      <td>1</td>\n",
       "      <td>0</td>\n",
       "      <td>0</td>\n",
       "      <td>0</td>\n",
       "      <td>0</td>\n",
       "      <td>0</td>\n",
       "    </tr>\n",
       "    <tr>\n",
       "      <th>4</th>\n",
       "      <td>0</td>\n",
       "      <td>31.0</td>\n",
       "      <td>1</td>\n",
       "      <td>16.0</td>\n",
       "      <td>0</td>\n",
       "      <td>4.0</td>\n",
       "      <td>5</td>\n",
       "      <td>4</td>\n",
       "      <td>1</td>\n",
       "      <td>21.000000</td>\n",
       "      <td>...</td>\n",
       "      <td>0</td>\n",
       "      <td>0</td>\n",
       "      <td>0</td>\n",
       "      <td>0</td>\n",
       "      <td>0</td>\n",
       "      <td>0</td>\n",
       "      <td>1</td>\n",
       "      <td>0</td>\n",
       "      <td>0</td>\n",
       "      <td>0</td>\n",
       "    </tr>\n",
       "  </tbody>\n",
       "</table>\n",
       "<p>5 rows × 29 columns</p>\n",
       "</div>"
      ],
      "text/plain": [
       "   Churn  Tenure  CityTier  WarehouseToHome  Gender  HourSpendOnApp  \\\n",
       "0      0    61.0         3             28.0       0             4.0   \n",
       "1      0    60.0         3             27.0       0             3.0   \n",
       "2      0    51.0         1              7.0       1             4.0   \n",
       "3      0    50.0         1              6.0       1             3.0   \n",
       "4      0    31.0         1             16.0       0             4.0   \n",
       "\n",
       "   NumberOfDeviceRegistered  SatisfactionScore  Complain  \\\n",
       "0                         4                  1         1   \n",
       "1                         3                  1         1   \n",
       "2                         2                  3         0   \n",
       "3                         1                  3         0   \n",
       "4                         5                  4         1   \n",
       "\n",
       "   OrderAmountHikeFromlastYear  ...  PreferredPaymentMode_Debit Card  \\\n",
       "0                    15.707922  ...                                1   \n",
       "1                    13.000000  ...                                1   \n",
       "2                    25.000000  ...                                1   \n",
       "3                    24.000000  ...                                1   \n",
       "4                    21.000000  ...                                0   \n",
       "\n",
       "   PreferredPaymentMode_E wallet  PreferredPaymentMode_UPI  \\\n",
       "0                              0                         0   \n",
       "1                              0                         0   \n",
       "2                              0                         0   \n",
       "3                              0                         0   \n",
       "4                              0                         0   \n",
       "\n",
       "   PreferedOrderCat_Grocery  PreferedOrderCat_Laptop & Accessory  \\\n",
       "0                         1                                    0   \n",
       "1                         1                                    0   \n",
       "2                         0                                    1   \n",
       "3                         0                                    1   \n",
       "4                         0                                    0   \n",
       "\n",
       "   PreferedOrderCat_Mobile  PreferedOrderCat_Mobile Phone  \\\n",
       "0                        0                              0   \n",
       "1                        0                              0   \n",
       "2                        0                              0   \n",
       "3                        0                              0   \n",
       "4                        0                              1   \n",
       "\n",
       "   PreferedOrderCat_Others  MaritalStatus_Married  MaritalStatus_Single  \n",
       "0                        0                      1                     0  \n",
       "1                        0                      1                     0  \n",
       "2                        0                      0                     0  \n",
       "3                        0                      0                     0  \n",
       "4                        0                      0                     0  \n",
       "\n",
       "[5 rows x 29 columns]"
      ]
     },
     "execution_count": 250,
     "metadata": {},
     "output_type": "execute_result"
    }
   ],
   "source": [
    "clean_df.head()"
   ]
  },
  {
   "cell_type": "code",
   "execution_count": 251,
   "id": "fad83f46",
   "metadata": {},
   "outputs": [
    {
     "data": {
      "text/plain": [
       "Index(['Churn', 'Tenure', 'CityTier', 'WarehouseToHome', 'Gender',\n",
       "       'HourSpendOnApp', 'NumberOfDeviceRegistered', 'SatisfactionScore',\n",
       "       'Complain', 'OrderAmountHikeFromlastYear', 'CouponUsed', 'OrderCount',\n",
       "       'DaySinceLastOrder', 'CashbackAmount',\n",
       "       'PreferredLoginDevice_Mobile Phone', 'PreferredLoginDevice_Phone',\n",
       "       'PreferredPaymentMode_COD', 'PreferredPaymentMode_Cash on Delivery',\n",
       "       'PreferredPaymentMode_Credit Card', 'PreferredPaymentMode_Debit Card',\n",
       "       'PreferredPaymentMode_E wallet', 'PreferredPaymentMode_UPI',\n",
       "       'PreferedOrderCat_Grocery', 'PreferedOrderCat_Laptop & Accessory',\n",
       "       'PreferedOrderCat_Mobile', 'PreferedOrderCat_Mobile Phone',\n",
       "       'PreferedOrderCat_Others', 'MaritalStatus_Married',\n",
       "       'MaritalStatus_Single'],\n",
       "      dtype='object')"
      ]
     },
     "execution_count": 251,
     "metadata": {},
     "output_type": "execute_result"
    }
   ],
   "source": [
    "clean_df.columns"
   ]
  },
  {
   "cell_type": "code",
   "execution_count": 364,
   "id": "5de5313b",
   "metadata": {},
   "outputs": [
    {
     "data": {
      "text/html": [
       "<div>\n",
       "<style scoped>\n",
       "    .dataframe tbody tr th:only-of-type {\n",
       "        vertical-align: middle;\n",
       "    }\n",
       "\n",
       "    .dataframe tbody tr th {\n",
       "        vertical-align: top;\n",
       "    }\n",
       "\n",
       "    .dataframe thead th {\n",
       "        text-align: right;\n",
       "    }\n",
       "</style>\n",
       "<table border=\"1\" class=\"dataframe\">\n",
       "  <thead>\n",
       "    <tr style=\"text-align: right;\">\n",
       "      <th></th>\n",
       "      <th>0</th>\n",
       "      <th>1</th>\n",
       "      <th>2</th>\n",
       "      <th>3</th>\n",
       "      <th>4</th>\n",
       "      <th>5</th>\n",
       "      <th>6</th>\n",
       "      <th>7</th>\n",
       "      <th>8</th>\n",
       "      <th>9</th>\n",
       "      <th>...</th>\n",
       "      <th>5620</th>\n",
       "      <th>5621</th>\n",
       "      <th>5622</th>\n",
       "      <th>5623</th>\n",
       "      <th>5624</th>\n",
       "      <th>5625</th>\n",
       "      <th>5626</th>\n",
       "      <th>5627</th>\n",
       "      <th>5628</th>\n",
       "      <th>5629</th>\n",
       "    </tr>\n",
       "  </thead>\n",
       "  <tbody>\n",
       "    <tr>\n",
       "      <th>Tenure</th>\n",
       "      <td>61.000000</td>\n",
       "      <td>60.000000</td>\n",
       "      <td>51.0</td>\n",
       "      <td>50.0</td>\n",
       "      <td>31.00</td>\n",
       "      <td>31.000000</td>\n",
       "      <td>31.00</td>\n",
       "      <td>31.00</td>\n",
       "      <td>31.0</td>\n",
       "      <td>31.00</td>\n",
       "      <td>...</td>\n",
       "      <td>10.189899</td>\n",
       "      <td>10.189899</td>\n",
       "      <td>10.189899</td>\n",
       "      <td>10.189899</td>\n",
       "      <td>10.189899</td>\n",
       "      <td>10.189899</td>\n",
       "      <td>10.189899</td>\n",
       "      <td>10.189899</td>\n",
       "      <td>10.189899</td>\n",
       "      <td>10.189899</td>\n",
       "    </tr>\n",
       "    <tr>\n",
       "      <th>CityTier</th>\n",
       "      <td>3.000000</td>\n",
       "      <td>3.000000</td>\n",
       "      <td>1.0</td>\n",
       "      <td>1.0</td>\n",
       "      <td>1.00</td>\n",
       "      <td>1.000000</td>\n",
       "      <td>1.00</td>\n",
       "      <td>2.00</td>\n",
       "      <td>1.0</td>\n",
       "      <td>1.00</td>\n",
       "      <td>...</td>\n",
       "      <td>1.000000</td>\n",
       "      <td>1.000000</td>\n",
       "      <td>1.000000</td>\n",
       "      <td>1.000000</td>\n",
       "      <td>1.000000</td>\n",
       "      <td>2.000000</td>\n",
       "      <td>1.000000</td>\n",
       "      <td>3.000000</td>\n",
       "      <td>3.000000</td>\n",
       "      <td>1.000000</td>\n",
       "    </tr>\n",
       "    <tr>\n",
       "      <th>WarehouseToHome</th>\n",
       "      <td>28.000000</td>\n",
       "      <td>27.000000</td>\n",
       "      <td>7.0</td>\n",
       "      <td>6.0</td>\n",
       "      <td>16.00</td>\n",
       "      <td>31.000000</td>\n",
       "      <td>10.00</td>\n",
       "      <td>13.00</td>\n",
       "      <td>7.0</td>\n",
       "      <td>7.00</td>\n",
       "      <td>...</td>\n",
       "      <td>13.000000</td>\n",
       "      <td>22.000000</td>\n",
       "      <td>8.000000</td>\n",
       "      <td>14.000000</td>\n",
       "      <td>22.000000</td>\n",
       "      <td>8.000000</td>\n",
       "      <td>7.000000</td>\n",
       "      <td>7.000000</td>\n",
       "      <td>15.000000</td>\n",
       "      <td>8.000000</td>\n",
       "    </tr>\n",
       "    <tr>\n",
       "      <th>Gender</th>\n",
       "      <td>NaN</td>\n",
       "      <td>NaN</td>\n",
       "      <td>NaN</td>\n",
       "      <td>NaN</td>\n",
       "      <td>NaN</td>\n",
       "      <td>NaN</td>\n",
       "      <td>NaN</td>\n",
       "      <td>NaN</td>\n",
       "      <td>NaN</td>\n",
       "      <td>NaN</td>\n",
       "      <td>...</td>\n",
       "      <td>NaN</td>\n",
       "      <td>NaN</td>\n",
       "      <td>NaN</td>\n",
       "      <td>NaN</td>\n",
       "      <td>NaN</td>\n",
       "      <td>NaN</td>\n",
       "      <td>NaN</td>\n",
       "      <td>NaN</td>\n",
       "      <td>NaN</td>\n",
       "      <td>NaN</td>\n",
       "    </tr>\n",
       "    <tr>\n",
       "      <th>HourSpendOnApp</th>\n",
       "      <td>4.000000</td>\n",
       "      <td>3.000000</td>\n",
       "      <td>4.0</td>\n",
       "      <td>3.0</td>\n",
       "      <td>4.00</td>\n",
       "      <td>3.000000</td>\n",
       "      <td>4.00</td>\n",
       "      <td>3.00</td>\n",
       "      <td>3.0</td>\n",
       "      <td>3.00</td>\n",
       "      <td>...</td>\n",
       "      <td>2.000000</td>\n",
       "      <td>2.000000</td>\n",
       "      <td>2.000000</td>\n",
       "      <td>2.000000</td>\n",
       "      <td>2.000000</td>\n",
       "      <td>2.000000</td>\n",
       "      <td>2.000000</td>\n",
       "      <td>3.000000</td>\n",
       "      <td>2.000000</td>\n",
       "      <td>3.000000</td>\n",
       "    </tr>\n",
       "    <tr>\n",
       "      <th>NumberOfDeviceRegistered</th>\n",
       "      <td>4.000000</td>\n",
       "      <td>3.000000</td>\n",
       "      <td>2.0</td>\n",
       "      <td>1.0</td>\n",
       "      <td>5.00</td>\n",
       "      <td>3.000000</td>\n",
       "      <td>5.00</td>\n",
       "      <td>4.00</td>\n",
       "      <td>6.0</td>\n",
       "      <td>4.00</td>\n",
       "      <td>...</td>\n",
       "      <td>3.000000</td>\n",
       "      <td>5.000000</td>\n",
       "      <td>3.000000</td>\n",
       "      <td>4.000000</td>\n",
       "      <td>3.000000</td>\n",
       "      <td>3.000000</td>\n",
       "      <td>4.000000</td>\n",
       "      <td>4.000000</td>\n",
       "      <td>3.000000</td>\n",
       "      <td>3.000000</td>\n",
       "    </tr>\n",
       "    <tr>\n",
       "      <th>SatisfactionScore</th>\n",
       "      <td>1.000000</td>\n",
       "      <td>1.000000</td>\n",
       "      <td>3.0</td>\n",
       "      <td>3.0</td>\n",
       "      <td>4.00</td>\n",
       "      <td>2.000000</td>\n",
       "      <td>2.00</td>\n",
       "      <td>3.00</td>\n",
       "      <td>3.0</td>\n",
       "      <td>3.00</td>\n",
       "      <td>...</td>\n",
       "      <td>5.000000</td>\n",
       "      <td>5.000000</td>\n",
       "      <td>4.000000</td>\n",
       "      <td>4.000000</td>\n",
       "      <td>3.000000</td>\n",
       "      <td>4.000000</td>\n",
       "      <td>3.000000</td>\n",
       "      <td>4.000000</td>\n",
       "      <td>5.000000</td>\n",
       "      <td>3.000000</td>\n",
       "    </tr>\n",
       "    <tr>\n",
       "      <th>Complain</th>\n",
       "      <td>1.000000</td>\n",
       "      <td>1.000000</td>\n",
       "      <td>0.0</td>\n",
       "      <td>0.0</td>\n",
       "      <td>1.00</td>\n",
       "      <td>1.000000</td>\n",
       "      <td>0.00</td>\n",
       "      <td>0.00</td>\n",
       "      <td>1.0</td>\n",
       "      <td>0.00</td>\n",
       "      <td>...</td>\n",
       "      <td>0.000000</td>\n",
       "      <td>1.000000</td>\n",
       "      <td>0.000000</td>\n",
       "      <td>1.000000</td>\n",
       "      <td>0.000000</td>\n",
       "      <td>0.000000</td>\n",
       "      <td>0.000000</td>\n",
       "      <td>0.000000</td>\n",
       "      <td>0.000000</td>\n",
       "      <td>0.000000</td>\n",
       "    </tr>\n",
       "    <tr>\n",
       "      <th>OrderAmountHikeFromlastYear</th>\n",
       "      <td>15.707922</td>\n",
       "      <td>13.000000</td>\n",
       "      <td>25.0</td>\n",
       "      <td>24.0</td>\n",
       "      <td>21.00</td>\n",
       "      <td>17.000000</td>\n",
       "      <td>18.00</td>\n",
       "      <td>18.00</td>\n",
       "      <td>14.0</td>\n",
       "      <td>12.00</td>\n",
       "      <td>...</td>\n",
       "      <td>14.000000</td>\n",
       "      <td>23.000000</td>\n",
       "      <td>11.000000</td>\n",
       "      <td>16.000000</td>\n",
       "      <td>14.000000</td>\n",
       "      <td>14.000000</td>\n",
       "      <td>12.000000</td>\n",
       "      <td>14.000000</td>\n",
       "      <td>19.000000</td>\n",
       "      <td>14.000000</td>\n",
       "    </tr>\n",
       "    <tr>\n",
       "      <th>CouponUsed</th>\n",
       "      <td>1.000000</td>\n",
       "      <td>1.751023</td>\n",
       "      <td>2.0</td>\n",
       "      <td>1.0</td>\n",
       "      <td>2.00</td>\n",
       "      <td>2.000000</td>\n",
       "      <td>1.00</td>\n",
       "      <td>3.00</td>\n",
       "      <td>2.0</td>\n",
       "      <td>2.00</td>\n",
       "      <td>...</td>\n",
       "      <td>0.000000</td>\n",
       "      <td>0.000000</td>\n",
       "      <td>0.000000</td>\n",
       "      <td>1.000000</td>\n",
       "      <td>0.000000</td>\n",
       "      <td>0.000000</td>\n",
       "      <td>0.000000</td>\n",
       "      <td>2.000000</td>\n",
       "      <td>1.000000</td>\n",
       "      <td>0.000000</td>\n",
       "    </tr>\n",
       "    <tr>\n",
       "      <th>OrderCount</th>\n",
       "      <td>2.000000</td>\n",
       "      <td>1.000000</td>\n",
       "      <td>3.0</td>\n",
       "      <td>2.0</td>\n",
       "      <td>2.00</td>\n",
       "      <td>2.000000</td>\n",
       "      <td>2.00</td>\n",
       "      <td>3.00</td>\n",
       "      <td>2.0</td>\n",
       "      <td>2.00</td>\n",
       "      <td>...</td>\n",
       "      <td>1.000000</td>\n",
       "      <td>3.000000</td>\n",
       "      <td>1.000000</td>\n",
       "      <td>1.000000</td>\n",
       "      <td>1.000000</td>\n",
       "      <td>1.000000</td>\n",
       "      <td>1.000000</td>\n",
       "      <td>2.000000</td>\n",
       "      <td>1.000000</td>\n",
       "      <td>1.000000</td>\n",
       "    </tr>\n",
       "    <tr>\n",
       "      <th>DaySinceLastOrder</th>\n",
       "      <td>1.000000</td>\n",
       "      <td>0.000000</td>\n",
       "      <td>9.0</td>\n",
       "      <td>8.0</td>\n",
       "      <td>1.00</td>\n",
       "      <td>4.543491</td>\n",
       "      <td>1.00</td>\n",
       "      <td>3.00</td>\n",
       "      <td>3.0</td>\n",
       "      <td>3.00</td>\n",
       "      <td>...</td>\n",
       "      <td>2.000000</td>\n",
       "      <td>0.000000</td>\n",
       "      <td>2.000000</td>\n",
       "      <td>7.000000</td>\n",
       "      <td>4.000000</td>\n",
       "      <td>2.000000</td>\n",
       "      <td>0.000000</td>\n",
       "      <td>2.000000</td>\n",
       "      <td>0.000000</td>\n",
       "      <td>2.000000</td>\n",
       "    </tr>\n",
       "    <tr>\n",
       "      <th>CashbackAmount</th>\n",
       "      <td>303.750000</td>\n",
       "      <td>278.750000</td>\n",
       "      <td>174.0</td>\n",
       "      <td>149.0</td>\n",
       "      <td>158.46</td>\n",
       "      <td>219.390000</td>\n",
       "      <td>146.77</td>\n",
       "      <td>147.67</td>\n",
       "      <td>181.6</td>\n",
       "      <td>192.55</td>\n",
       "      <td>...</td>\n",
       "      <td>120.620000</td>\n",
       "      <td>123.070000</td>\n",
       "      <td>122.260000</td>\n",
       "      <td>121.330000</td>\n",
       "      <td>121.440000</td>\n",
       "      <td>121.870000</td>\n",
       "      <td>120.080000</td>\n",
       "      <td>122.690000</td>\n",
       "      <td>117.900000</td>\n",
       "      <td>120.010000</td>\n",
       "    </tr>\n",
       "    <tr>\n",
       "      <th>PreferredLoginDevice_Mobile Phone</th>\n",
       "      <td>1.000000</td>\n",
       "      <td>1.000000</td>\n",
       "      <td>1.0</td>\n",
       "      <td>0.0</td>\n",
       "      <td>1.00</td>\n",
       "      <td>1.000000</td>\n",
       "      <td>0.00</td>\n",
       "      <td>0.00</td>\n",
       "      <td>0.0</td>\n",
       "      <td>1.00</td>\n",
       "      <td>...</td>\n",
       "      <td>0.000000</td>\n",
       "      <td>0.000000</td>\n",
       "      <td>0.000000</td>\n",
       "      <td>0.000000</td>\n",
       "      <td>0.000000</td>\n",
       "      <td>0.000000</td>\n",
       "      <td>0.000000</td>\n",
       "      <td>0.000000</td>\n",
       "      <td>0.000000</td>\n",
       "      <td>1.000000</td>\n",
       "    </tr>\n",
       "    <tr>\n",
       "      <th>PreferredLoginDevice_Phone</th>\n",
       "      <td>0.000000</td>\n",
       "      <td>0.000000</td>\n",
       "      <td>0.0</td>\n",
       "      <td>1.0</td>\n",
       "      <td>0.00</td>\n",
       "      <td>0.000000</td>\n",
       "      <td>1.00</td>\n",
       "      <td>1.00</td>\n",
       "      <td>0.0</td>\n",
       "      <td>0.00</td>\n",
       "      <td>...</td>\n",
       "      <td>1.000000</td>\n",
       "      <td>0.000000</td>\n",
       "      <td>1.000000</td>\n",
       "      <td>0.000000</td>\n",
       "      <td>0.000000</td>\n",
       "      <td>1.000000</td>\n",
       "      <td>0.000000</td>\n",
       "      <td>1.000000</td>\n",
       "      <td>0.000000</td>\n",
       "      <td>0.000000</td>\n",
       "    </tr>\n",
       "    <tr>\n",
       "      <th>PreferredPaymentMode_COD</th>\n",
       "      <td>0.000000</td>\n",
       "      <td>0.000000</td>\n",
       "      <td>0.0</td>\n",
       "      <td>0.0</td>\n",
       "      <td>0.00</td>\n",
       "      <td>0.000000</td>\n",
       "      <td>0.00</td>\n",
       "      <td>0.00</td>\n",
       "      <td>0.0</td>\n",
       "      <td>0.00</td>\n",
       "      <td>...</td>\n",
       "      <td>0.000000</td>\n",
       "      <td>1.000000</td>\n",
       "      <td>1.000000</td>\n",
       "      <td>0.000000</td>\n",
       "      <td>0.000000</td>\n",
       "      <td>0.000000</td>\n",
       "      <td>0.000000</td>\n",
       "      <td>0.000000</td>\n",
       "      <td>0.000000</td>\n",
       "      <td>0.000000</td>\n",
       "    </tr>\n",
       "    <tr>\n",
       "      <th>PreferredPaymentMode_Cash on Delivery</th>\n",
       "      <td>0.000000</td>\n",
       "      <td>0.000000</td>\n",
       "      <td>0.0</td>\n",
       "      <td>0.0</td>\n",
       "      <td>0.00</td>\n",
       "      <td>0.000000</td>\n",
       "      <td>0.00</td>\n",
       "      <td>0.00</td>\n",
       "      <td>0.0</td>\n",
       "      <td>0.00</td>\n",
       "      <td>...</td>\n",
       "      <td>0.000000</td>\n",
       "      <td>0.000000</td>\n",
       "      <td>0.000000</td>\n",
       "      <td>0.000000</td>\n",
       "      <td>0.000000</td>\n",
       "      <td>0.000000</td>\n",
       "      <td>0.000000</td>\n",
       "      <td>0.000000</td>\n",
       "      <td>0.000000</td>\n",
       "      <td>0.000000</td>\n",
       "    </tr>\n",
       "    <tr>\n",
       "      <th>PreferredPaymentMode_Credit Card</th>\n",
       "      <td>0.000000</td>\n",
       "      <td>0.000000</td>\n",
       "      <td>0.0</td>\n",
       "      <td>0.0</td>\n",
       "      <td>1.00</td>\n",
       "      <td>0.000000</td>\n",
       "      <td>0.00</td>\n",
       "      <td>1.00</td>\n",
       "      <td>0.0</td>\n",
       "      <td>1.00</td>\n",
       "      <td>...</td>\n",
       "      <td>0.000000</td>\n",
       "      <td>0.000000</td>\n",
       "      <td>0.000000</td>\n",
       "      <td>0.000000</td>\n",
       "      <td>0.000000</td>\n",
       "      <td>0.000000</td>\n",
       "      <td>0.000000</td>\n",
       "      <td>0.000000</td>\n",
       "      <td>0.000000</td>\n",
       "      <td>0.000000</td>\n",
       "    </tr>\n",
       "    <tr>\n",
       "      <th>PreferredPaymentMode_Debit Card</th>\n",
       "      <td>1.000000</td>\n",
       "      <td>1.000000</td>\n",
       "      <td>1.0</td>\n",
       "      <td>1.0</td>\n",
       "      <td>0.00</td>\n",
       "      <td>1.000000</td>\n",
       "      <td>1.00</td>\n",
       "      <td>0.00</td>\n",
       "      <td>1.0</td>\n",
       "      <td>0.00</td>\n",
       "      <td>...</td>\n",
       "      <td>1.000000</td>\n",
       "      <td>0.000000</td>\n",
       "      <td>0.000000</td>\n",
       "      <td>0.000000</td>\n",
       "      <td>0.000000</td>\n",
       "      <td>0.000000</td>\n",
       "      <td>0.000000</td>\n",
       "      <td>0.000000</td>\n",
       "      <td>0.000000</td>\n",
       "      <td>0.000000</td>\n",
       "    </tr>\n",
       "    <tr>\n",
       "      <th>PreferredPaymentMode_E wallet</th>\n",
       "      <td>0.000000</td>\n",
       "      <td>0.000000</td>\n",
       "      <td>0.0</td>\n",
       "      <td>0.0</td>\n",
       "      <td>0.00</td>\n",
       "      <td>0.000000</td>\n",
       "      <td>0.00</td>\n",
       "      <td>0.00</td>\n",
       "      <td>0.0</td>\n",
       "      <td>0.00</td>\n",
       "      <td>...</td>\n",
       "      <td>0.000000</td>\n",
       "      <td>0.000000</td>\n",
       "      <td>0.000000</td>\n",
       "      <td>0.000000</td>\n",
       "      <td>0.000000</td>\n",
       "      <td>0.000000</td>\n",
       "      <td>0.000000</td>\n",
       "      <td>0.000000</td>\n",
       "      <td>1.000000</td>\n",
       "      <td>0.000000</td>\n",
       "    </tr>\n",
       "    <tr>\n",
       "      <th>PreferredPaymentMode_UPI</th>\n",
       "      <td>0.000000</td>\n",
       "      <td>0.000000</td>\n",
       "      <td>0.0</td>\n",
       "      <td>0.0</td>\n",
       "      <td>0.00</td>\n",
       "      <td>0.000000</td>\n",
       "      <td>0.00</td>\n",
       "      <td>0.00</td>\n",
       "      <td>0.0</td>\n",
       "      <td>0.00</td>\n",
       "      <td>...</td>\n",
       "      <td>0.000000</td>\n",
       "      <td>0.000000</td>\n",
       "      <td>0.000000</td>\n",
       "      <td>0.000000</td>\n",
       "      <td>0.000000</td>\n",
       "      <td>1.000000</td>\n",
       "      <td>0.000000</td>\n",
       "      <td>0.000000</td>\n",
       "      <td>0.000000</td>\n",
       "      <td>0.000000</td>\n",
       "    </tr>\n",
       "    <tr>\n",
       "      <th>PreferedOrderCat_Grocery</th>\n",
       "      <td>1.000000</td>\n",
       "      <td>1.000000</td>\n",
       "      <td>0.0</td>\n",
       "      <td>0.0</td>\n",
       "      <td>0.00</td>\n",
       "      <td>0.000000</td>\n",
       "      <td>0.00</td>\n",
       "      <td>0.00</td>\n",
       "      <td>0.0</td>\n",
       "      <td>0.00</td>\n",
       "      <td>...</td>\n",
       "      <td>0.000000</td>\n",
       "      <td>0.000000</td>\n",
       "      <td>0.000000</td>\n",
       "      <td>0.000000</td>\n",
       "      <td>0.000000</td>\n",
       "      <td>0.000000</td>\n",
       "      <td>0.000000</td>\n",
       "      <td>0.000000</td>\n",
       "      <td>0.000000</td>\n",
       "      <td>0.000000</td>\n",
       "    </tr>\n",
       "    <tr>\n",
       "      <th>PreferedOrderCat_Laptop &amp; Accessory</th>\n",
       "      <td>0.000000</td>\n",
       "      <td>0.000000</td>\n",
       "      <td>1.0</td>\n",
       "      <td>1.0</td>\n",
       "      <td>0.00</td>\n",
       "      <td>0.000000</td>\n",
       "      <td>0.00</td>\n",
       "      <td>0.00</td>\n",
       "      <td>1.0</td>\n",
       "      <td>1.00</td>\n",
       "      <td>...</td>\n",
       "      <td>0.000000</td>\n",
       "      <td>0.000000</td>\n",
       "      <td>0.000000</td>\n",
       "      <td>1.000000</td>\n",
       "      <td>0.000000</td>\n",
       "      <td>0.000000</td>\n",
       "      <td>0.000000</td>\n",
       "      <td>0.000000</td>\n",
       "      <td>0.000000</td>\n",
       "      <td>0.000000</td>\n",
       "    </tr>\n",
       "    <tr>\n",
       "      <th>PreferedOrderCat_Mobile</th>\n",
       "      <td>0.000000</td>\n",
       "      <td>0.000000</td>\n",
       "      <td>0.0</td>\n",
       "      <td>0.0</td>\n",
       "      <td>0.00</td>\n",
       "      <td>0.000000</td>\n",
       "      <td>0.00</td>\n",
       "      <td>0.00</td>\n",
       "      <td>0.0</td>\n",
       "      <td>0.00</td>\n",
       "      <td>...</td>\n",
       "      <td>1.000000</td>\n",
       "      <td>1.000000</td>\n",
       "      <td>1.000000</td>\n",
       "      <td>0.000000</td>\n",
       "      <td>1.000000</td>\n",
       "      <td>1.000000</td>\n",
       "      <td>1.000000</td>\n",
       "      <td>1.000000</td>\n",
       "      <td>0.000000</td>\n",
       "      <td>1.000000</td>\n",
       "    </tr>\n",
       "    <tr>\n",
       "      <th>PreferedOrderCat_Mobile Phone</th>\n",
       "      <td>0.000000</td>\n",
       "      <td>0.000000</td>\n",
       "      <td>0.0</td>\n",
       "      <td>0.0</td>\n",
       "      <td>1.00</td>\n",
       "      <td>0.000000</td>\n",
       "      <td>1.00</td>\n",
       "      <td>1.00</td>\n",
       "      <td>0.0</td>\n",
       "      <td>0.00</td>\n",
       "      <td>...</td>\n",
       "      <td>0.000000</td>\n",
       "      <td>0.000000</td>\n",
       "      <td>0.000000</td>\n",
       "      <td>0.000000</td>\n",
       "      <td>0.000000</td>\n",
       "      <td>0.000000</td>\n",
       "      <td>0.000000</td>\n",
       "      <td>0.000000</td>\n",
       "      <td>1.000000</td>\n",
       "      <td>0.000000</td>\n",
       "    </tr>\n",
       "    <tr>\n",
       "      <th>PreferedOrderCat_Others</th>\n",
       "      <td>0.000000</td>\n",
       "      <td>0.000000</td>\n",
       "      <td>0.0</td>\n",
       "      <td>0.0</td>\n",
       "      <td>0.00</td>\n",
       "      <td>0.000000</td>\n",
       "      <td>0.00</td>\n",
       "      <td>0.00</td>\n",
       "      <td>0.0</td>\n",
       "      <td>0.00</td>\n",
       "      <td>...</td>\n",
       "      <td>0.000000</td>\n",
       "      <td>0.000000</td>\n",
       "      <td>0.000000</td>\n",
       "      <td>0.000000</td>\n",
       "      <td>0.000000</td>\n",
       "      <td>0.000000</td>\n",
       "      <td>0.000000</td>\n",
       "      <td>0.000000</td>\n",
       "      <td>0.000000</td>\n",
       "      <td>0.000000</td>\n",
       "    </tr>\n",
       "    <tr>\n",
       "      <th>MaritalStatus_Married</th>\n",
       "      <td>1.000000</td>\n",
       "      <td>1.000000</td>\n",
       "      <td>0.0</td>\n",
       "      <td>0.0</td>\n",
       "      <td>0.00</td>\n",
       "      <td>1.000000</td>\n",
       "      <td>0.00</td>\n",
       "      <td>0.00</td>\n",
       "      <td>1.0</td>\n",
       "      <td>0.00</td>\n",
       "      <td>...</td>\n",
       "      <td>0.000000</td>\n",
       "      <td>1.000000</td>\n",
       "      <td>1.000000</td>\n",
       "      <td>1.000000</td>\n",
       "      <td>0.000000</td>\n",
       "      <td>1.000000</td>\n",
       "      <td>1.000000</td>\n",
       "      <td>1.000000</td>\n",
       "      <td>1.000000</td>\n",
       "      <td>1.000000</td>\n",
       "    </tr>\n",
       "    <tr>\n",
       "      <th>MaritalStatus_Single</th>\n",
       "      <td>0.000000</td>\n",
       "      <td>0.000000</td>\n",
       "      <td>0.0</td>\n",
       "      <td>0.0</td>\n",
       "      <td>0.00</td>\n",
       "      <td>0.000000</td>\n",
       "      <td>0.00</td>\n",
       "      <td>0.00</td>\n",
       "      <td>0.0</td>\n",
       "      <td>0.00</td>\n",
       "      <td>...</td>\n",
       "      <td>1.000000</td>\n",
       "      <td>0.000000</td>\n",
       "      <td>0.000000</td>\n",
       "      <td>0.000000</td>\n",
       "      <td>1.000000</td>\n",
       "      <td>0.000000</td>\n",
       "      <td>0.000000</td>\n",
       "      <td>0.000000</td>\n",
       "      <td>0.000000</td>\n",
       "      <td>0.000000</td>\n",
       "    </tr>\n",
       "  </tbody>\n",
       "</table>\n",
       "<p>28 rows × 5630 columns</p>\n",
       "</div>"
      ],
      "text/plain": [
       "                                             0           1      2      3     \\\n",
       "Tenure                                  61.000000   60.000000   51.0   50.0   \n",
       "CityTier                                 3.000000    3.000000    1.0    1.0   \n",
       "WarehouseToHome                         28.000000   27.000000    7.0    6.0   \n",
       "Gender                                        NaN         NaN    NaN    NaN   \n",
       "HourSpendOnApp                           4.000000    3.000000    4.0    3.0   \n",
       "NumberOfDeviceRegistered                 4.000000    3.000000    2.0    1.0   \n",
       "SatisfactionScore                        1.000000    1.000000    3.0    3.0   \n",
       "Complain                                 1.000000    1.000000    0.0    0.0   \n",
       "OrderAmountHikeFromlastYear             15.707922   13.000000   25.0   24.0   \n",
       "CouponUsed                               1.000000    1.751023    2.0    1.0   \n",
       "OrderCount                               2.000000    1.000000    3.0    2.0   \n",
       "DaySinceLastOrder                        1.000000    0.000000    9.0    8.0   \n",
       "CashbackAmount                         303.750000  278.750000  174.0  149.0   \n",
       "PreferredLoginDevice_Mobile Phone        1.000000    1.000000    1.0    0.0   \n",
       "PreferredLoginDevice_Phone               0.000000    0.000000    0.0    1.0   \n",
       "PreferredPaymentMode_COD                 0.000000    0.000000    0.0    0.0   \n",
       "PreferredPaymentMode_Cash on Delivery    0.000000    0.000000    0.0    0.0   \n",
       "PreferredPaymentMode_Credit Card         0.000000    0.000000    0.0    0.0   \n",
       "PreferredPaymentMode_Debit Card          1.000000    1.000000    1.0    1.0   \n",
       "PreferredPaymentMode_E wallet            0.000000    0.000000    0.0    0.0   \n",
       "PreferredPaymentMode_UPI                 0.000000    0.000000    0.0    0.0   \n",
       "PreferedOrderCat_Grocery                 1.000000    1.000000    0.0    0.0   \n",
       "PreferedOrderCat_Laptop & Accessory      0.000000    0.000000    1.0    1.0   \n",
       "PreferedOrderCat_Mobile                  0.000000    0.000000    0.0    0.0   \n",
       "PreferedOrderCat_Mobile Phone            0.000000    0.000000    0.0    0.0   \n",
       "PreferedOrderCat_Others                  0.000000    0.000000    0.0    0.0   \n",
       "MaritalStatus_Married                    1.000000    1.000000    0.0    0.0   \n",
       "MaritalStatus_Single                     0.000000    0.000000    0.0    0.0   \n",
       "\n",
       "                                         4           5       6       7     \\\n",
       "Tenure                                  31.00   31.000000   31.00   31.00   \n",
       "CityTier                                 1.00    1.000000    1.00    2.00   \n",
       "WarehouseToHome                         16.00   31.000000   10.00   13.00   \n",
       "Gender                                    NaN         NaN     NaN     NaN   \n",
       "HourSpendOnApp                           4.00    3.000000    4.00    3.00   \n",
       "NumberOfDeviceRegistered                 5.00    3.000000    5.00    4.00   \n",
       "SatisfactionScore                        4.00    2.000000    2.00    3.00   \n",
       "Complain                                 1.00    1.000000    0.00    0.00   \n",
       "OrderAmountHikeFromlastYear             21.00   17.000000   18.00   18.00   \n",
       "CouponUsed                               2.00    2.000000    1.00    3.00   \n",
       "OrderCount                               2.00    2.000000    2.00    3.00   \n",
       "DaySinceLastOrder                        1.00    4.543491    1.00    3.00   \n",
       "CashbackAmount                         158.46  219.390000  146.77  147.67   \n",
       "PreferredLoginDevice_Mobile Phone        1.00    1.000000    0.00    0.00   \n",
       "PreferredLoginDevice_Phone               0.00    0.000000    1.00    1.00   \n",
       "PreferredPaymentMode_COD                 0.00    0.000000    0.00    0.00   \n",
       "PreferredPaymentMode_Cash on Delivery    0.00    0.000000    0.00    0.00   \n",
       "PreferredPaymentMode_Credit Card         1.00    0.000000    0.00    1.00   \n",
       "PreferredPaymentMode_Debit Card          0.00    1.000000    1.00    0.00   \n",
       "PreferredPaymentMode_E wallet            0.00    0.000000    0.00    0.00   \n",
       "PreferredPaymentMode_UPI                 0.00    0.000000    0.00    0.00   \n",
       "PreferedOrderCat_Grocery                 0.00    0.000000    0.00    0.00   \n",
       "PreferedOrderCat_Laptop & Accessory      0.00    0.000000    0.00    0.00   \n",
       "PreferedOrderCat_Mobile                  0.00    0.000000    0.00    0.00   \n",
       "PreferedOrderCat_Mobile Phone            1.00    0.000000    1.00    1.00   \n",
       "PreferedOrderCat_Others                  0.00    0.000000    0.00    0.00   \n",
       "MaritalStatus_Married                    0.00    1.000000    0.00    0.00   \n",
       "MaritalStatus_Single                     0.00    0.000000    0.00    0.00   \n",
       "\n",
       "                                        8       9     ...        5620  \\\n",
       "Tenure                                  31.0   31.00  ...   10.189899   \n",
       "CityTier                                 1.0    1.00  ...    1.000000   \n",
       "WarehouseToHome                          7.0    7.00  ...   13.000000   \n",
       "Gender                                   NaN     NaN  ...         NaN   \n",
       "HourSpendOnApp                           3.0    3.00  ...    2.000000   \n",
       "NumberOfDeviceRegistered                 6.0    4.00  ...    3.000000   \n",
       "SatisfactionScore                        3.0    3.00  ...    5.000000   \n",
       "Complain                                 1.0    0.00  ...    0.000000   \n",
       "OrderAmountHikeFromlastYear             14.0   12.00  ...   14.000000   \n",
       "CouponUsed                               2.0    2.00  ...    0.000000   \n",
       "OrderCount                               2.0    2.00  ...    1.000000   \n",
       "DaySinceLastOrder                        3.0    3.00  ...    2.000000   \n",
       "CashbackAmount                         181.6  192.55  ...  120.620000   \n",
       "PreferredLoginDevice_Mobile Phone        0.0    1.00  ...    0.000000   \n",
       "PreferredLoginDevice_Phone               0.0    0.00  ...    1.000000   \n",
       "PreferredPaymentMode_COD                 0.0    0.00  ...    0.000000   \n",
       "PreferredPaymentMode_Cash on Delivery    0.0    0.00  ...    0.000000   \n",
       "PreferredPaymentMode_Credit Card         0.0    1.00  ...    0.000000   \n",
       "PreferredPaymentMode_Debit Card          1.0    0.00  ...    1.000000   \n",
       "PreferredPaymentMode_E wallet            0.0    0.00  ...    0.000000   \n",
       "PreferredPaymentMode_UPI                 0.0    0.00  ...    0.000000   \n",
       "PreferedOrderCat_Grocery                 0.0    0.00  ...    0.000000   \n",
       "PreferedOrderCat_Laptop & Accessory      1.0    1.00  ...    0.000000   \n",
       "PreferedOrderCat_Mobile                  0.0    0.00  ...    1.000000   \n",
       "PreferedOrderCat_Mobile Phone            0.0    0.00  ...    0.000000   \n",
       "PreferedOrderCat_Others                  0.0    0.00  ...    0.000000   \n",
       "MaritalStatus_Married                    1.0    0.00  ...    0.000000   \n",
       "MaritalStatus_Single                     0.0    0.00  ...    1.000000   \n",
       "\n",
       "                                             5621        5622        5623  \\\n",
       "Tenure                                  10.189899   10.189899   10.189899   \n",
       "CityTier                                 1.000000    1.000000    1.000000   \n",
       "WarehouseToHome                         22.000000    8.000000   14.000000   \n",
       "Gender                                        NaN         NaN         NaN   \n",
       "HourSpendOnApp                           2.000000    2.000000    2.000000   \n",
       "NumberOfDeviceRegistered                 5.000000    3.000000    4.000000   \n",
       "SatisfactionScore                        5.000000    4.000000    4.000000   \n",
       "Complain                                 1.000000    0.000000    1.000000   \n",
       "OrderAmountHikeFromlastYear             23.000000   11.000000   16.000000   \n",
       "CouponUsed                               0.000000    0.000000    1.000000   \n",
       "OrderCount                               3.000000    1.000000    1.000000   \n",
       "DaySinceLastOrder                        0.000000    2.000000    7.000000   \n",
       "CashbackAmount                         123.070000  122.260000  121.330000   \n",
       "PreferredLoginDevice_Mobile Phone        0.000000    0.000000    0.000000   \n",
       "PreferredLoginDevice_Phone               0.000000    1.000000    0.000000   \n",
       "PreferredPaymentMode_COD                 1.000000    1.000000    0.000000   \n",
       "PreferredPaymentMode_Cash on Delivery    0.000000    0.000000    0.000000   \n",
       "PreferredPaymentMode_Credit Card         0.000000    0.000000    0.000000   \n",
       "PreferredPaymentMode_Debit Card          0.000000    0.000000    0.000000   \n",
       "PreferredPaymentMode_E wallet            0.000000    0.000000    0.000000   \n",
       "PreferredPaymentMode_UPI                 0.000000    0.000000    0.000000   \n",
       "PreferedOrderCat_Grocery                 0.000000    0.000000    0.000000   \n",
       "PreferedOrderCat_Laptop & Accessory      0.000000    0.000000    1.000000   \n",
       "PreferedOrderCat_Mobile                  1.000000    1.000000    0.000000   \n",
       "PreferedOrderCat_Mobile Phone            0.000000    0.000000    0.000000   \n",
       "PreferedOrderCat_Others                  0.000000    0.000000    0.000000   \n",
       "MaritalStatus_Married                    1.000000    1.000000    1.000000   \n",
       "MaritalStatus_Single                     0.000000    0.000000    0.000000   \n",
       "\n",
       "                                             5624        5625        5626  \\\n",
       "Tenure                                  10.189899   10.189899   10.189899   \n",
       "CityTier                                 1.000000    2.000000    1.000000   \n",
       "WarehouseToHome                         22.000000    8.000000    7.000000   \n",
       "Gender                                        NaN         NaN         NaN   \n",
       "HourSpendOnApp                           2.000000    2.000000    2.000000   \n",
       "NumberOfDeviceRegistered                 3.000000    3.000000    4.000000   \n",
       "SatisfactionScore                        3.000000    4.000000    3.000000   \n",
       "Complain                                 0.000000    0.000000    0.000000   \n",
       "OrderAmountHikeFromlastYear             14.000000   14.000000   12.000000   \n",
       "CouponUsed                               0.000000    0.000000    0.000000   \n",
       "OrderCount                               1.000000    1.000000    1.000000   \n",
       "DaySinceLastOrder                        4.000000    2.000000    0.000000   \n",
       "CashbackAmount                         121.440000  121.870000  120.080000   \n",
       "PreferredLoginDevice_Mobile Phone        0.000000    0.000000    0.000000   \n",
       "PreferredLoginDevice_Phone               0.000000    1.000000    0.000000   \n",
       "PreferredPaymentMode_COD                 0.000000    0.000000    0.000000   \n",
       "PreferredPaymentMode_Cash on Delivery    0.000000    0.000000    0.000000   \n",
       "PreferredPaymentMode_Credit Card         0.000000    0.000000    0.000000   \n",
       "PreferredPaymentMode_Debit Card          0.000000    0.000000    0.000000   \n",
       "PreferredPaymentMode_E wallet            0.000000    0.000000    0.000000   \n",
       "PreferredPaymentMode_UPI                 0.000000    1.000000    0.000000   \n",
       "PreferedOrderCat_Grocery                 0.000000    0.000000    0.000000   \n",
       "PreferedOrderCat_Laptop & Accessory      0.000000    0.000000    0.000000   \n",
       "PreferedOrderCat_Mobile                  1.000000    1.000000    1.000000   \n",
       "PreferedOrderCat_Mobile Phone            0.000000    0.000000    0.000000   \n",
       "PreferedOrderCat_Others                  0.000000    0.000000    0.000000   \n",
       "MaritalStatus_Married                    0.000000    1.000000    1.000000   \n",
       "MaritalStatus_Single                     1.000000    0.000000    0.000000   \n",
       "\n",
       "                                             5627        5628        5629  \n",
       "Tenure                                  10.189899   10.189899   10.189899  \n",
       "CityTier                                 3.000000    3.000000    1.000000  \n",
       "WarehouseToHome                          7.000000   15.000000    8.000000  \n",
       "Gender                                        NaN         NaN         NaN  \n",
       "HourSpendOnApp                           3.000000    2.000000    3.000000  \n",
       "NumberOfDeviceRegistered                 4.000000    3.000000    3.000000  \n",
       "SatisfactionScore                        4.000000    5.000000    3.000000  \n",
       "Complain                                 0.000000    0.000000    0.000000  \n",
       "OrderAmountHikeFromlastYear             14.000000   19.000000   14.000000  \n",
       "CouponUsed                               2.000000    1.000000    0.000000  \n",
       "OrderCount                               2.000000    1.000000    1.000000  \n",
       "DaySinceLastOrder                        2.000000    0.000000    2.000000  \n",
       "CashbackAmount                         122.690000  117.900000  120.010000  \n",
       "PreferredLoginDevice_Mobile Phone        0.000000    0.000000    1.000000  \n",
       "PreferredLoginDevice_Phone               1.000000    0.000000    0.000000  \n",
       "PreferredPaymentMode_COD                 0.000000    0.000000    0.000000  \n",
       "PreferredPaymentMode_Cash on Delivery    0.000000    0.000000    0.000000  \n",
       "PreferredPaymentMode_Credit Card         0.000000    0.000000    0.000000  \n",
       "PreferredPaymentMode_Debit Card          0.000000    0.000000    0.000000  \n",
       "PreferredPaymentMode_E wallet            0.000000    1.000000    0.000000  \n",
       "PreferredPaymentMode_UPI                 0.000000    0.000000    0.000000  \n",
       "PreferedOrderCat_Grocery                 0.000000    0.000000    0.000000  \n",
       "PreferedOrderCat_Laptop & Accessory      0.000000    0.000000    0.000000  \n",
       "PreferedOrderCat_Mobile                  1.000000    0.000000    1.000000  \n",
       "PreferedOrderCat_Mobile Phone            0.000000    1.000000    0.000000  \n",
       "PreferedOrderCat_Others                  0.000000    0.000000    0.000000  \n",
       "MaritalStatus_Married                    1.000000    1.000000    1.000000  \n",
       "MaritalStatus_Single                     0.000000    0.000000    0.000000  \n",
       "\n",
       "[28 rows x 5630 columns]"
      ]
     },
     "execution_count": 364,
     "metadata": {},
     "output_type": "execute_result"
    }
   ],
   "source": [
    "x.T"
   ]
  },
  {
   "cell_type": "code",
   "execution_count": 330,
   "id": "8b66108a",
   "metadata": {
    "scrolled": true
   },
   "outputs": [
    {
     "data": {
      "text/html": [
       "<div>\n",
       "<style scoped>\n",
       "    .dataframe tbody tr th:only-of-type {\n",
       "        vertical-align: middle;\n",
       "    }\n",
       "\n",
       "    .dataframe tbody tr th {\n",
       "        vertical-align: top;\n",
       "    }\n",
       "\n",
       "    .dataframe thead th {\n",
       "        text-align: right;\n",
       "    }\n",
       "</style>\n",
       "<table border=\"1\" class=\"dataframe\">\n",
       "  <thead>\n",
       "    <tr style=\"text-align: right;\">\n",
       "      <th></th>\n",
       "      <th>Churn</th>\n",
       "      <th>Tenure</th>\n",
       "      <th>CityTier</th>\n",
       "      <th>WarehouseToHome</th>\n",
       "      <th>Gender</th>\n",
       "      <th>HourSpendOnApp</th>\n",
       "      <th>NumberOfDeviceRegistered</th>\n",
       "      <th>SatisfactionScore</th>\n",
       "      <th>Complain</th>\n",
       "      <th>OrderAmountHikeFromlastYear</th>\n",
       "      <th>...</th>\n",
       "      <th>PreferredPaymentMode_Debit Card</th>\n",
       "      <th>PreferredPaymentMode_E wallet</th>\n",
       "      <th>PreferredPaymentMode_UPI</th>\n",
       "      <th>PreferedOrderCat_Grocery</th>\n",
       "      <th>PreferedOrderCat_Laptop &amp; Accessory</th>\n",
       "      <th>PreferedOrderCat_Mobile</th>\n",
       "      <th>PreferedOrderCat_Mobile Phone</th>\n",
       "      <th>PreferedOrderCat_Others</th>\n",
       "      <th>MaritalStatus_Married</th>\n",
       "      <th>MaritalStatus_Single</th>\n",
       "    </tr>\n",
       "  </thead>\n",
       "  <tbody>\n",
       "    <tr>\n",
       "      <th>0</th>\n",
       "      <td>False</td>\n",
       "      <td>False</td>\n",
       "      <td>False</td>\n",
       "      <td>False</td>\n",
       "      <td>True</td>\n",
       "      <td>False</td>\n",
       "      <td>False</td>\n",
       "      <td>False</td>\n",
       "      <td>False</td>\n",
       "      <td>False</td>\n",
       "      <td>...</td>\n",
       "      <td>False</td>\n",
       "      <td>False</td>\n",
       "      <td>False</td>\n",
       "      <td>False</td>\n",
       "      <td>False</td>\n",
       "      <td>False</td>\n",
       "      <td>False</td>\n",
       "      <td>False</td>\n",
       "      <td>False</td>\n",
       "      <td>False</td>\n",
       "    </tr>\n",
       "    <tr>\n",
       "      <th>1</th>\n",
       "      <td>False</td>\n",
       "      <td>False</td>\n",
       "      <td>False</td>\n",
       "      <td>False</td>\n",
       "      <td>True</td>\n",
       "      <td>False</td>\n",
       "      <td>False</td>\n",
       "      <td>False</td>\n",
       "      <td>False</td>\n",
       "      <td>False</td>\n",
       "      <td>...</td>\n",
       "      <td>False</td>\n",
       "      <td>False</td>\n",
       "      <td>False</td>\n",
       "      <td>False</td>\n",
       "      <td>False</td>\n",
       "      <td>False</td>\n",
       "      <td>False</td>\n",
       "      <td>False</td>\n",
       "      <td>False</td>\n",
       "      <td>False</td>\n",
       "    </tr>\n",
       "    <tr>\n",
       "      <th>2</th>\n",
       "      <td>False</td>\n",
       "      <td>False</td>\n",
       "      <td>False</td>\n",
       "      <td>False</td>\n",
       "      <td>True</td>\n",
       "      <td>False</td>\n",
       "      <td>False</td>\n",
       "      <td>False</td>\n",
       "      <td>False</td>\n",
       "      <td>False</td>\n",
       "      <td>...</td>\n",
       "      <td>False</td>\n",
       "      <td>False</td>\n",
       "      <td>False</td>\n",
       "      <td>False</td>\n",
       "      <td>False</td>\n",
       "      <td>False</td>\n",
       "      <td>False</td>\n",
       "      <td>False</td>\n",
       "      <td>False</td>\n",
       "      <td>False</td>\n",
       "    </tr>\n",
       "    <tr>\n",
       "      <th>3</th>\n",
       "      <td>False</td>\n",
       "      <td>False</td>\n",
       "      <td>False</td>\n",
       "      <td>False</td>\n",
       "      <td>True</td>\n",
       "      <td>False</td>\n",
       "      <td>False</td>\n",
       "      <td>False</td>\n",
       "      <td>False</td>\n",
       "      <td>False</td>\n",
       "      <td>...</td>\n",
       "      <td>False</td>\n",
       "      <td>False</td>\n",
       "      <td>False</td>\n",
       "      <td>False</td>\n",
       "      <td>False</td>\n",
       "      <td>False</td>\n",
       "      <td>False</td>\n",
       "      <td>False</td>\n",
       "      <td>False</td>\n",
       "      <td>False</td>\n",
       "    </tr>\n",
       "    <tr>\n",
       "      <th>4</th>\n",
       "      <td>False</td>\n",
       "      <td>False</td>\n",
       "      <td>False</td>\n",
       "      <td>False</td>\n",
       "      <td>True</td>\n",
       "      <td>False</td>\n",
       "      <td>False</td>\n",
       "      <td>False</td>\n",
       "      <td>False</td>\n",
       "      <td>False</td>\n",
       "      <td>...</td>\n",
       "      <td>False</td>\n",
       "      <td>False</td>\n",
       "      <td>False</td>\n",
       "      <td>False</td>\n",
       "      <td>False</td>\n",
       "      <td>False</td>\n",
       "      <td>False</td>\n",
       "      <td>False</td>\n",
       "      <td>False</td>\n",
       "      <td>False</td>\n",
       "    </tr>\n",
       "    <tr>\n",
       "      <th>...</th>\n",
       "      <td>...</td>\n",
       "      <td>...</td>\n",
       "      <td>...</td>\n",
       "      <td>...</td>\n",
       "      <td>...</td>\n",
       "      <td>...</td>\n",
       "      <td>...</td>\n",
       "      <td>...</td>\n",
       "      <td>...</td>\n",
       "      <td>...</td>\n",
       "      <td>...</td>\n",
       "      <td>...</td>\n",
       "      <td>...</td>\n",
       "      <td>...</td>\n",
       "      <td>...</td>\n",
       "      <td>...</td>\n",
       "      <td>...</td>\n",
       "      <td>...</td>\n",
       "      <td>...</td>\n",
       "      <td>...</td>\n",
       "      <td>...</td>\n",
       "    </tr>\n",
       "    <tr>\n",
       "      <th>5625</th>\n",
       "      <td>False</td>\n",
       "      <td>False</td>\n",
       "      <td>False</td>\n",
       "      <td>False</td>\n",
       "      <td>True</td>\n",
       "      <td>False</td>\n",
       "      <td>False</td>\n",
       "      <td>False</td>\n",
       "      <td>False</td>\n",
       "      <td>False</td>\n",
       "      <td>...</td>\n",
       "      <td>False</td>\n",
       "      <td>False</td>\n",
       "      <td>False</td>\n",
       "      <td>False</td>\n",
       "      <td>False</td>\n",
       "      <td>False</td>\n",
       "      <td>False</td>\n",
       "      <td>False</td>\n",
       "      <td>False</td>\n",
       "      <td>False</td>\n",
       "    </tr>\n",
       "    <tr>\n",
       "      <th>5626</th>\n",
       "      <td>False</td>\n",
       "      <td>False</td>\n",
       "      <td>False</td>\n",
       "      <td>False</td>\n",
       "      <td>True</td>\n",
       "      <td>False</td>\n",
       "      <td>False</td>\n",
       "      <td>False</td>\n",
       "      <td>False</td>\n",
       "      <td>False</td>\n",
       "      <td>...</td>\n",
       "      <td>False</td>\n",
       "      <td>False</td>\n",
       "      <td>False</td>\n",
       "      <td>False</td>\n",
       "      <td>False</td>\n",
       "      <td>False</td>\n",
       "      <td>False</td>\n",
       "      <td>False</td>\n",
       "      <td>False</td>\n",
       "      <td>False</td>\n",
       "    </tr>\n",
       "    <tr>\n",
       "      <th>5627</th>\n",
       "      <td>False</td>\n",
       "      <td>False</td>\n",
       "      <td>False</td>\n",
       "      <td>False</td>\n",
       "      <td>True</td>\n",
       "      <td>False</td>\n",
       "      <td>False</td>\n",
       "      <td>False</td>\n",
       "      <td>False</td>\n",
       "      <td>False</td>\n",
       "      <td>...</td>\n",
       "      <td>False</td>\n",
       "      <td>False</td>\n",
       "      <td>False</td>\n",
       "      <td>False</td>\n",
       "      <td>False</td>\n",
       "      <td>False</td>\n",
       "      <td>False</td>\n",
       "      <td>False</td>\n",
       "      <td>False</td>\n",
       "      <td>False</td>\n",
       "    </tr>\n",
       "    <tr>\n",
       "      <th>5628</th>\n",
       "      <td>False</td>\n",
       "      <td>False</td>\n",
       "      <td>False</td>\n",
       "      <td>False</td>\n",
       "      <td>True</td>\n",
       "      <td>False</td>\n",
       "      <td>False</td>\n",
       "      <td>False</td>\n",
       "      <td>False</td>\n",
       "      <td>False</td>\n",
       "      <td>...</td>\n",
       "      <td>False</td>\n",
       "      <td>False</td>\n",
       "      <td>False</td>\n",
       "      <td>False</td>\n",
       "      <td>False</td>\n",
       "      <td>False</td>\n",
       "      <td>False</td>\n",
       "      <td>False</td>\n",
       "      <td>False</td>\n",
       "      <td>False</td>\n",
       "    </tr>\n",
       "    <tr>\n",
       "      <th>5629</th>\n",
       "      <td>False</td>\n",
       "      <td>False</td>\n",
       "      <td>False</td>\n",
       "      <td>False</td>\n",
       "      <td>True</td>\n",
       "      <td>False</td>\n",
       "      <td>False</td>\n",
       "      <td>False</td>\n",
       "      <td>False</td>\n",
       "      <td>False</td>\n",
       "      <td>...</td>\n",
       "      <td>False</td>\n",
       "      <td>False</td>\n",
       "      <td>False</td>\n",
       "      <td>False</td>\n",
       "      <td>False</td>\n",
       "      <td>False</td>\n",
       "      <td>False</td>\n",
       "      <td>False</td>\n",
       "      <td>False</td>\n",
       "      <td>False</td>\n",
       "    </tr>\n",
       "  </tbody>\n",
       "</table>\n",
       "<p>5630 rows × 29 columns</p>\n",
       "</div>"
      ],
      "text/plain": [
       "      Churn  Tenure  CityTier  WarehouseToHome  Gender  HourSpendOnApp  \\\n",
       "0     False   False     False            False    True           False   \n",
       "1     False   False     False            False    True           False   \n",
       "2     False   False     False            False    True           False   \n",
       "3     False   False     False            False    True           False   \n",
       "4     False   False     False            False    True           False   \n",
       "...     ...     ...       ...              ...     ...             ...   \n",
       "5625  False   False     False            False    True           False   \n",
       "5626  False   False     False            False    True           False   \n",
       "5627  False   False     False            False    True           False   \n",
       "5628  False   False     False            False    True           False   \n",
       "5629  False   False     False            False    True           False   \n",
       "\n",
       "      NumberOfDeviceRegistered  SatisfactionScore  Complain  \\\n",
       "0                        False              False     False   \n",
       "1                        False              False     False   \n",
       "2                        False              False     False   \n",
       "3                        False              False     False   \n",
       "4                        False              False     False   \n",
       "...                        ...                ...       ...   \n",
       "5625                     False              False     False   \n",
       "5626                     False              False     False   \n",
       "5627                     False              False     False   \n",
       "5628                     False              False     False   \n",
       "5629                     False              False     False   \n",
       "\n",
       "      OrderAmountHikeFromlastYear  ...  PreferredPaymentMode_Debit Card  \\\n",
       "0                           False  ...                            False   \n",
       "1                           False  ...                            False   \n",
       "2                           False  ...                            False   \n",
       "3                           False  ...                            False   \n",
       "4                           False  ...                            False   \n",
       "...                           ...  ...                              ...   \n",
       "5625                        False  ...                            False   \n",
       "5626                        False  ...                            False   \n",
       "5627                        False  ...                            False   \n",
       "5628                        False  ...                            False   \n",
       "5629                        False  ...                            False   \n",
       "\n",
       "      PreferredPaymentMode_E wallet  PreferredPaymentMode_UPI  \\\n",
       "0                             False                     False   \n",
       "1                             False                     False   \n",
       "2                             False                     False   \n",
       "3                             False                     False   \n",
       "4                             False                     False   \n",
       "...                             ...                       ...   \n",
       "5625                          False                     False   \n",
       "5626                          False                     False   \n",
       "5627                          False                     False   \n",
       "5628                          False                     False   \n",
       "5629                          False                     False   \n",
       "\n",
       "      PreferedOrderCat_Grocery  PreferedOrderCat_Laptop & Accessory  \\\n",
       "0                        False                                False   \n",
       "1                        False                                False   \n",
       "2                        False                                False   \n",
       "3                        False                                False   \n",
       "4                        False                                False   \n",
       "...                        ...                                  ...   \n",
       "5625                     False                                False   \n",
       "5626                     False                                False   \n",
       "5627                     False                                False   \n",
       "5628                     False                                False   \n",
       "5629                     False                                False   \n",
       "\n",
       "      PreferedOrderCat_Mobile  PreferedOrderCat_Mobile Phone  \\\n",
       "0                       False                          False   \n",
       "1                       False                          False   \n",
       "2                       False                          False   \n",
       "3                       False                          False   \n",
       "4                       False                          False   \n",
       "...                       ...                            ...   \n",
       "5625                    False                          False   \n",
       "5626                    False                          False   \n",
       "5627                    False                          False   \n",
       "5628                    False                          False   \n",
       "5629                    False                          False   \n",
       "\n",
       "      PreferedOrderCat_Others  MaritalStatus_Married  MaritalStatus_Single  \n",
       "0                       False                  False                 False  \n",
       "1                       False                  False                 False  \n",
       "2                       False                  False                 False  \n",
       "3                       False                  False                 False  \n",
       "4                       False                  False                 False  \n",
       "...                       ...                    ...                   ...  \n",
       "5625                    False                  False                 False  \n",
       "5626                    False                  False                 False  \n",
       "5627                    False                  False                 False  \n",
       "5628                    False                  False                 False  \n",
       "5629                    False                  False                 False  \n",
       "\n",
       "[5630 rows x 29 columns]"
      ]
     },
     "execution_count": 330,
     "metadata": {},
     "output_type": "execute_result"
    }
   ],
   "source": [
    "clean_df.isna()"
   ]
  },
  {
   "cell_type": "code",
   "execution_count": 254,
   "id": "796abd0b",
   "metadata": {},
   "outputs": [
    {
     "data": {
      "text/plain": [
       "Churn                                      int64\n",
       "Tenure                                   float64\n",
       "CityTier                                   int64\n",
       "WarehouseToHome                          float64\n",
       "Gender                                     int64\n",
       "HourSpendOnApp                           float64\n",
       "NumberOfDeviceRegistered                   int64\n",
       "SatisfactionScore                          int64\n",
       "Complain                                   int64\n",
       "OrderAmountHikeFromlastYear              float64\n",
       "CouponUsed                               float64\n",
       "OrderCount                               float64\n",
       "DaySinceLastOrder                        float64\n",
       "CashbackAmount                           float64\n",
       "PreferredLoginDevice_Mobile Phone          uint8\n",
       "PreferredLoginDevice_Phone                 uint8\n",
       "PreferredPaymentMode_COD                   uint8\n",
       "PreferredPaymentMode_Cash on Delivery      uint8\n",
       "PreferredPaymentMode_Credit Card           uint8\n",
       "PreferredPaymentMode_Debit Card            uint8\n",
       "PreferredPaymentMode_E wallet              uint8\n",
       "PreferredPaymentMode_UPI                   uint8\n",
       "PreferedOrderCat_Grocery                   uint8\n",
       "PreferedOrderCat_Laptop & Accessory        uint8\n",
       "PreferedOrderCat_Mobile                    uint8\n",
       "PreferedOrderCat_Mobile Phone              uint8\n",
       "PreferedOrderCat_Others                    uint8\n",
       "MaritalStatus_Married                      uint8\n",
       "MaritalStatus_Single                       uint8\n",
       "dtype: object"
      ]
     },
     "execution_count": 254,
     "metadata": {},
     "output_type": "execute_result"
    }
   ],
   "source": [
    "# Show the new data set data types\n",
    "clean_df.dtypes"
   ]
  },
  {
   "cell_type": "code",
   "execution_count": 255,
   "id": "df7e4810",
   "metadata": {
    "scrolled": true
   },
   "outputs": [
    {
     "data": {
      "text/html": [
       "<div>\n",
       "<style scoped>\n",
       "    .dataframe tbody tr th:only-of-type {\n",
       "        vertical-align: middle;\n",
       "    }\n",
       "\n",
       "    .dataframe tbody tr th {\n",
       "        vertical-align: top;\n",
       "    }\n",
       "\n",
       "    .dataframe thead th {\n",
       "        text-align: right;\n",
       "    }\n",
       "</style>\n",
       "<table border=\"1\" class=\"dataframe\">\n",
       "  <thead>\n",
       "    <tr style=\"text-align: right;\">\n",
       "      <th></th>\n",
       "      <th>Churn</th>\n",
       "      <th>Tenure</th>\n",
       "      <th>CityTier</th>\n",
       "      <th>WarehouseToHome</th>\n",
       "      <th>Gender</th>\n",
       "      <th>HourSpendOnApp</th>\n",
       "      <th>NumberOfDeviceRegistered</th>\n",
       "      <th>SatisfactionScore</th>\n",
       "      <th>Complain</th>\n",
       "      <th>OrderAmountHikeFromlastYear</th>\n",
       "      <th>...</th>\n",
       "      <th>PreferredPaymentMode_Debit Card</th>\n",
       "      <th>PreferredPaymentMode_E wallet</th>\n",
       "      <th>PreferredPaymentMode_UPI</th>\n",
       "      <th>PreferedOrderCat_Grocery</th>\n",
       "      <th>PreferedOrderCat_Laptop &amp; Accessory</th>\n",
       "      <th>PreferedOrderCat_Mobile</th>\n",
       "      <th>PreferedOrderCat_Mobile Phone</th>\n",
       "      <th>PreferedOrderCat_Others</th>\n",
       "      <th>MaritalStatus_Married</th>\n",
       "      <th>MaritalStatus_Single</th>\n",
       "    </tr>\n",
       "  </thead>\n",
       "  <tbody>\n",
       "    <tr>\n",
       "      <th>0</th>\n",
       "      <td>0</td>\n",
       "      <td>61.0</td>\n",
       "      <td>3</td>\n",
       "      <td>28.0</td>\n",
       "      <td>0</td>\n",
       "      <td>4.0</td>\n",
       "      <td>4</td>\n",
       "      <td>1</td>\n",
       "      <td>1</td>\n",
       "      <td>15.707922</td>\n",
       "      <td>...</td>\n",
       "      <td>1</td>\n",
       "      <td>0</td>\n",
       "      <td>0</td>\n",
       "      <td>1</td>\n",
       "      <td>0</td>\n",
       "      <td>0</td>\n",
       "      <td>0</td>\n",
       "      <td>0</td>\n",
       "      <td>1</td>\n",
       "      <td>0</td>\n",
       "    </tr>\n",
       "    <tr>\n",
       "      <th>1</th>\n",
       "      <td>0</td>\n",
       "      <td>60.0</td>\n",
       "      <td>3</td>\n",
       "      <td>27.0</td>\n",
       "      <td>0</td>\n",
       "      <td>3.0</td>\n",
       "      <td>3</td>\n",
       "      <td>1</td>\n",
       "      <td>1</td>\n",
       "      <td>13.000000</td>\n",
       "      <td>...</td>\n",
       "      <td>1</td>\n",
       "      <td>0</td>\n",
       "      <td>0</td>\n",
       "      <td>1</td>\n",
       "      <td>0</td>\n",
       "      <td>0</td>\n",
       "      <td>0</td>\n",
       "      <td>0</td>\n",
       "      <td>1</td>\n",
       "      <td>0</td>\n",
       "    </tr>\n",
       "    <tr>\n",
       "      <th>2</th>\n",
       "      <td>0</td>\n",
       "      <td>51.0</td>\n",
       "      <td>1</td>\n",
       "      <td>7.0</td>\n",
       "      <td>1</td>\n",
       "      <td>4.0</td>\n",
       "      <td>2</td>\n",
       "      <td>3</td>\n",
       "      <td>0</td>\n",
       "      <td>25.000000</td>\n",
       "      <td>...</td>\n",
       "      <td>1</td>\n",
       "      <td>0</td>\n",
       "      <td>0</td>\n",
       "      <td>0</td>\n",
       "      <td>1</td>\n",
       "      <td>0</td>\n",
       "      <td>0</td>\n",
       "      <td>0</td>\n",
       "      <td>0</td>\n",
       "      <td>0</td>\n",
       "    </tr>\n",
       "    <tr>\n",
       "      <th>3</th>\n",
       "      <td>0</td>\n",
       "      <td>50.0</td>\n",
       "      <td>1</td>\n",
       "      <td>6.0</td>\n",
       "      <td>1</td>\n",
       "      <td>3.0</td>\n",
       "      <td>1</td>\n",
       "      <td>3</td>\n",
       "      <td>0</td>\n",
       "      <td>24.000000</td>\n",
       "      <td>...</td>\n",
       "      <td>1</td>\n",
       "      <td>0</td>\n",
       "      <td>0</td>\n",
       "      <td>0</td>\n",
       "      <td>1</td>\n",
       "      <td>0</td>\n",
       "      <td>0</td>\n",
       "      <td>0</td>\n",
       "      <td>0</td>\n",
       "      <td>0</td>\n",
       "    </tr>\n",
       "    <tr>\n",
       "      <th>4</th>\n",
       "      <td>0</td>\n",
       "      <td>31.0</td>\n",
       "      <td>1</td>\n",
       "      <td>16.0</td>\n",
       "      <td>0</td>\n",
       "      <td>4.0</td>\n",
       "      <td>5</td>\n",
       "      <td>4</td>\n",
       "      <td>1</td>\n",
       "      <td>21.000000</td>\n",
       "      <td>...</td>\n",
       "      <td>0</td>\n",
       "      <td>0</td>\n",
       "      <td>0</td>\n",
       "      <td>0</td>\n",
       "      <td>0</td>\n",
       "      <td>0</td>\n",
       "      <td>1</td>\n",
       "      <td>0</td>\n",
       "      <td>0</td>\n",
       "      <td>0</td>\n",
       "    </tr>\n",
       "  </tbody>\n",
       "</table>\n",
       "<p>5 rows × 29 columns</p>\n",
       "</div>"
      ],
      "text/plain": [
       "   Churn  Tenure  CityTier  WarehouseToHome  Gender  HourSpendOnApp  \\\n",
       "0      0    61.0         3             28.0       0             4.0   \n",
       "1      0    60.0         3             27.0       0             3.0   \n",
       "2      0    51.0         1              7.0       1             4.0   \n",
       "3      0    50.0         1              6.0       1             3.0   \n",
       "4      0    31.0         1             16.0       0             4.0   \n",
       "\n",
       "   NumberOfDeviceRegistered  SatisfactionScore  Complain  \\\n",
       "0                         4                  1         1   \n",
       "1                         3                  1         1   \n",
       "2                         2                  3         0   \n",
       "3                         1                  3         0   \n",
       "4                         5                  4         1   \n",
       "\n",
       "   OrderAmountHikeFromlastYear  ...  PreferredPaymentMode_Debit Card  \\\n",
       "0                    15.707922  ...                                1   \n",
       "1                    13.000000  ...                                1   \n",
       "2                    25.000000  ...                                1   \n",
       "3                    24.000000  ...                                1   \n",
       "4                    21.000000  ...                                0   \n",
       "\n",
       "   PreferredPaymentMode_E wallet  PreferredPaymentMode_UPI  \\\n",
       "0                              0                         0   \n",
       "1                              0                         0   \n",
       "2                              0                         0   \n",
       "3                              0                         0   \n",
       "4                              0                         0   \n",
       "\n",
       "   PreferedOrderCat_Grocery  PreferedOrderCat_Laptop & Accessory  \\\n",
       "0                         1                                    0   \n",
       "1                         1                                    0   \n",
       "2                         0                                    1   \n",
       "3                         0                                    1   \n",
       "4                         0                                    0   \n",
       "\n",
       "   PreferedOrderCat_Mobile  PreferedOrderCat_Mobile Phone  \\\n",
       "0                        0                              0   \n",
       "1                        0                              0   \n",
       "2                        0                              0   \n",
       "3                        0                              0   \n",
       "4                        0                              1   \n",
       "\n",
       "   PreferedOrderCat_Others  MaritalStatus_Married  MaritalStatus_Single  \n",
       "0                        0                      1                     0  \n",
       "1                        0                      1                     0  \n",
       "2                        0                      0                     0  \n",
       "3                        0                      0                     0  \n",
       "4                        0                      0                     0  \n",
       "\n",
       "[5 rows x 29 columns]"
      ]
     },
     "execution_count": 255,
     "metadata": {},
     "output_type": "execute_result"
    }
   ],
   "source": [
    "# Show the first 5 rows of the new data set\n",
    "clean_df.head()"
   ]
  },
  {
   "cell_type": "code",
   "execution_count": 361,
   "id": "ccc2623d",
   "metadata": {},
   "outputs": [],
   "source": [
    "# Splitting x, y (Step 1)\n",
    "x = clean_df.drop('Churn', axis = 1) # Feature data set\n",
    "y = clean_df['Churn']"
   ]
  },
  {
   "cell_type": "code",
   "execution_count": 362,
   "id": "1e0cb5ff",
   "metadata": {},
   "outputs": [],
   "source": [
    "#Split the data into 80% traning and 20% testing (Step 2)\n",
    "x_train, x_test, y_train, y_test = train_test_split(x,y, test_size=0.2, random_state = 42)"
   ]
  },
  {
   "cell_type": "code",
   "execution_count": 258,
   "id": "fb04b67b",
   "metadata": {},
   "outputs": [],
   "source": [
    "# Scaled the data (Step 3)\n",
    "scale = StandardScaler()"
   ]
  },
  {
   "cell_type": "code",
   "execution_count": 259,
   "id": "ffa5a19e",
   "metadata": {},
   "outputs": [],
   "source": [
    "# Scale, Test data (Step 4)\n",
    "x_train = scale.fit_transform(x_train)\n",
    "x_test = scale.transform(x_test)"
   ]
  },
  {
   "cell_type": "code",
   "execution_count": 260,
   "id": "b64fe507",
   "metadata": {},
   "outputs": [
    {
     "data": {
      "text/plain": [
       "LogisticRegression()"
      ]
     },
     "execution_count": 260,
     "metadata": {},
     "output_type": "execute_result"
    }
   ],
   "source": [
    "# Create the model\n",
    "model_lr = LogisticRegression()\n",
    "\n",
    "# Train the model\n",
    "model_lr.fit(x_train, y_train)"
   ]
  },
  {
   "cell_type": "code",
   "execution_count": 261,
   "id": "be6d6885",
   "metadata": {},
   "outputs": [
    {
     "name": "stdout",
     "output_type": "stream",
     "text": [
      "[0 0 0 ... 1 0 0]\n"
     ]
    }
   ],
   "source": [
    "# Create the prediction on the test data\n",
    "predictions_lr = model_lr.predict(x_test)\n",
    "\n",
    "# Print the predictions\n",
    "print(predictions_lr)"
   ]
  },
  {
   "cell_type": "code",
   "execution_count": 262,
   "id": "ed0b5bc8",
   "metadata": {},
   "outputs": [
    {
     "data": {
      "text/plain": [
       "0.8794404973357016"
      ]
     },
     "execution_count": 262,
     "metadata": {},
     "output_type": "execute_result"
    }
   ],
   "source": [
    "model_lr.score(x_train, y_train)"
   ]
  },
  {
   "cell_type": "code",
   "execution_count": 263,
   "id": "cf3702b0",
   "metadata": {
    "scrolled": true
   },
   "outputs": [
    {
     "data": {
      "text/plain": [
       "0.8872113676731794"
      ]
     },
     "execution_count": 263,
     "metadata": {},
     "output_type": "execute_result"
    }
   ],
   "source": [
    "model_lr.score(x_test, y_test)"
   ]
  },
  {
   "cell_type": "code",
   "execution_count": 264,
   "id": "f2b9a01a",
   "metadata": {},
   "outputs": [],
   "source": [
    "#Source code credit for this function: https://gist.github.com/shaypal5/94c53d765083101efc0240d776a23823\n",
    "def print_confusion_matrix(confusion_matrix, class_names, figsize = (10,7), fontsize=14):\n",
    "    \"\"\"Prints a confusion matrix, as returned by sklearn.metrics.confusion_matrix, as a heatmap.\n",
    "    \n",
    "    Arguments\n",
    "    ---------\n",
    "    confusion_matrix: numpy.ndarray\n",
    "        The numpy.ndarray object returned from a call to sklearn.metrics.confusion_matrix. \n",
    "        Similarly constructed ndarrays can also be used.\n",
    "    class_names: list\n",
    "        An ordered list of class names, in the order they index the given confusion matrix.\n",
    "    figsize: tuple\n",
    "        A 2-long tuple, the first value determining the horizontal size of the ouputted figure,\n",
    "        the second determining the vertical size. Defaults to (10,7).\n",
    "    fontsize: int\n",
    "        Font size for axes labels. Defaults to 14.\n",
    "        \n",
    "    Returns\n",
    "    -------\n",
    "    matplotlib.figure.Figure\n",
    "        The resulting confusion matrix figure\n",
    "    \"\"\"\n",
    "    df_cm = pd.DataFrame(\n",
    "        confusion_matrix, index=class_names, columns=class_names, \n",
    "    )\n",
    "    fig = plt.figure(figsize=figsize)\n",
    "    try:\n",
    "        heatmap = sns.heatmap(df_cm, annot=True, fmt=\"d\")\n",
    "    except ValueError:\n",
    "        raise ValueError(\"Confusion matrix values must be integers.\")\n",
    "    heatmap.yaxis.set_ticklabels(heatmap.yaxis.get_ticklabels(), rotation=0, ha='right', fontsize=fontsize)\n",
    "    heatmap.xaxis.set_ticklabels(heatmap.xaxis.get_ticklabels(), rotation=45, ha='right', fontsize=fontsize)\n",
    "    plt.ylabel('Truth')\n",
    "    plt.xlabel('Prediction')"
   ]
  },
  {
   "cell_type": "code",
   "execution_count": 265,
   "id": "4449a50c",
   "metadata": {
    "scrolled": false
   },
   "outputs": [
    {
     "data": {
      "image/png": "[encoded data removed]",
      "text/plain": [
       "<Figure size 720x504 with 2 Axes>"
      ]
     },
     "metadata": {
      "needs_background": "light"
     },
     "output_type": "display_data"
    }
   ],
   "source": [
    "cm = confusion_matrix(y_test, predictions_lr)\n",
    "print_confusion_matrix(cm, ['Not Churn', 'Churn'])"
   ]
  },
  {
   "cell_type": "code",
   "execution_count": 266,
   "id": "09887298",
   "metadata": {},
   "outputs": [
    {
     "data": {
      "text/plain": [
       "RandomForestClassifier()"
      ]
     },
     "execution_count": 266,
     "metadata": {},
     "output_type": "execute_result"
    }
   ],
   "source": [
    "# Create the model\n",
    "model_rf = RandomForestClassifier()\n",
    "\n",
    "# Train the model\n",
    "model_rf.fit(x_train, y_train)\n",
    "# print(x_train)"
   ]
  },
  {
   "cell_type": "code",
   "execution_count": 267,
   "id": "86528709",
   "metadata": {
    "scrolled": true
   },
   "outputs": [
    {
     "name": "stdout",
     "output_type": "stream",
     "text": [
      "[0 0 0 ... 1 1 0]\n"
     ]
    }
   ],
   "source": [
    "# Create the prediction on the test data\n",
    "predictions_rf = model_rf.predict(x_test)\n",
    "\n",
    "# Print the predictions\n",
    "print(predictions_rf)"
   ]
  },
  {
   "cell_type": "code",
   "execution_count": 268,
   "id": "94cc584e",
   "metadata": {
    "scrolled": true
   },
   "outputs": [
    {
     "data": {
      "text/plain": [
       "1.0"
      ]
     },
     "execution_count": 268,
     "metadata": {},
     "output_type": "execute_result"
    }
   ],
   "source": [
    "model_rf.score(x_train, y_train)"
   ]
  },
  {
   "cell_type": "code",
   "execution_count": 269,
   "id": "ef9aef40",
   "metadata": {},
   "outputs": [
    {
     "data": {
      "text/plain": [
       "0.9733570159857904"
      ]
     },
     "execution_count": 269,
     "metadata": {},
     "output_type": "execute_result"
    }
   ],
   "source": [
    "model_rf.score(x_test, y_test)"
   ]
  },
  {
   "cell_type": "code",
   "execution_count": 338,
   "id": "a97be48d",
   "metadata": {},
   "outputs": [
    {
     "data": {
      "image/png": "[encoded data removed]",
      "text/plain": [
       "<Figure size 720x504 with 2 Axes>"
      ]
     },
     "metadata": {
      "needs_background": "light"
     },
     "output_type": "display_data"
    }
   ],
   "source": [
    "cm = confusion_matrix(y_test, predictions_rf)\n",
    "print_confusion_matrix(cm, ['Not Churn', 'Churn'])"
   ]
  },
  {
   "cell_type": "code",
   "execution_count": 271,
   "id": "a30130bf",
   "metadata": {},
   "outputs": [
    {
     "data": {
      "text/plain": [
       "SVC()"
      ]
     },
     "execution_count": 271,
     "metadata": {},
     "output_type": "execute_result"
    }
   ],
   "source": [
    "# Create the model\n",
    "model_sv = SVC()\n",
    "\n",
    "# Train the model\n",
    "model_sv.fit(x_train, y_train)"
   ]
  },
  {
   "cell_type": "code",
   "execution_count": 357,
   "id": "1e329364",
   "metadata": {},
   "outputs": [
    {
     "data": {
      "image/png": "[encoded data removed]",
      "text/plain": [
       "<Figure size 720x504 with 2 Axes>"
      ]
     },
     "metadata": {
      "needs_background": "light"
     },
     "output_type": "display_data"
    }
   ],
   "source": [
    "cm = confusion_matrix(y_test, predictions_dt)\n",
    "print_confusion_matrix(cm, ['Not Churn', 'Churn'])"
   ]
  },
  {
   "cell_type": "code",
   "execution_count": 272,
   "id": "ca5c0352",
   "metadata": {
    "scrolled": false
   },
   "outputs": [
    {
     "data": {
      "image/png": "[encoded data removed]",
      "text/plain": [
       "<Figure size 720x504 with 2 Axes>"
      ]
     },
     "metadata": {
      "needs_background": "light"
     },
     "output_type": "display_data"
    }
   ],
   "source": [
    "cm = confusion_matrix(y_test, predictions_sv)\n",
    "print_confusion_matrix(cm, ['Not Churn', 'Churn'])"
   ]
  },
  {
   "cell_type": "code",
   "execution_count": 273,
   "id": "a378e6fd",
   "metadata": {
    "scrolled": true
   },
   "outputs": [
    {
     "name": "stdout",
     "output_type": "stream",
     "text": [
      "[0 0 0 ... 0 0 0]\n"
     ]
    }
   ],
   "source": [
    "# Create the prediction on the test data\n",
    "predictions_sv = model_sv.predict(x_test)\n",
    "\n",
    "# Print the predictions\n",
    "print(predictions_sv)"
   ]
  },
  {
   "cell_type": "code",
   "execution_count": 274,
   "id": "fc90c1ce",
   "metadata": {
    "scrolled": true
   },
   "outputs": [
    {
     "data": {
      "text/plain": [
       "0.9282859680284192"
      ]
     },
     "execution_count": 274,
     "metadata": {},
     "output_type": "execute_result"
    }
   ],
   "source": [
    "model_sv.score(x_train, y_train)"
   ]
  },
  {
   "cell_type": "code",
   "execution_count": 275,
   "id": "9ce206f0",
   "metadata": {},
   "outputs": [
    {
     "data": {
      "text/plain": [
       "0.9023090586145648"
      ]
     },
     "execution_count": 275,
     "metadata": {},
     "output_type": "execute_result"
    }
   ],
   "source": [
    "model_sv.score(x_test, y_test)"
   ]
  },
  {
   "cell_type": "code",
   "execution_count": 276,
   "id": "dd1dffd1",
   "metadata": {},
   "outputs": [
    {
     "data": {
      "text/plain": [
       "DecisionTreeClassifier()"
      ]
     },
     "execution_count": 276,
     "metadata": {},
     "output_type": "execute_result"
    }
   ],
   "source": [
    "# Create the model\n",
    "model_dt = DecisionTreeClassifier()\n",
    "\n",
    "#Train the model\n",
    "model_dt.fit(x_train, y_train)"
   ]
  },
  {
   "cell_type": "code",
   "execution_count": 277,
   "id": "f8059ed8",
   "metadata": {},
   "outputs": [
    {
     "name": "stdout",
     "output_type": "stream",
     "text": [
      "[0 0 0 ... 1 1 0]\n"
     ]
    }
   ],
   "source": [
    "# Create the prediction on the test data\n",
    "predictions_dt = model_dt.predict(x_test)\n",
    "\n",
    "# Print the predictions\n",
    "print(predictions_dt)"
   ]
  },
  {
   "cell_type": "code",
   "execution_count": 278,
   "id": "d174b8fa",
   "metadata": {},
   "outputs": [
    {
     "data": {
      "text/plain": [
       "1.0"
      ]
     },
     "execution_count": 278,
     "metadata": {},
     "output_type": "execute_result"
    }
   ],
   "source": [
    "model_dt.score(x_train, y_train)"
   ]
  },
  {
   "cell_type": "code",
   "execution_count": 279,
   "id": "3227ad60",
   "metadata": {
    "scrolled": true
   },
   "outputs": [
    {
     "data": {
      "text/plain": [
       "0.9458259325044405"
      ]
     },
     "execution_count": 279,
     "metadata": {},
     "output_type": "execute_result"
    }
   ],
   "source": [
    "model_dt.score(x_test, y_test)"
   ]
  },
  {
   "cell_type": "code",
   "execution_count": 280,
   "id": "75c610f0",
   "metadata": {},
   "outputs": [
    {
     "data": {
      "text/plain": [
       "GaussianNB()"
      ]
     },
     "execution_count": 280,
     "metadata": {},
     "output_type": "execute_result"
    }
   ],
   "source": [
    "# Create the model\n",
    "model_gnb = GaussianNB()\n",
    "\n",
    "# Train the model\n",
    "model_gnb.fit(x_train, y_train)"
   ]
  },
  {
   "cell_type": "code",
   "execution_count": 281,
   "id": "855f86f4",
   "metadata": {},
   "outputs": [
    {
     "name": "stdout",
     "output_type": "stream",
     "text": [
      "[0 0 1 ... 1 0 0]\n"
     ]
    }
   ],
   "source": [
    "# Create the prediction on the test data\n",
    "predictions_gnb = model_gnb.predict(x_test)\n",
    "\n",
    "# Print the predictions\n",
    "print(predictions_gnb)"
   ]
  },
  {
   "cell_type": "code",
   "execution_count": 282,
   "id": "ea481955",
   "metadata": {},
   "outputs": [
    {
     "data": {
      "text/plain": [
       "0.7457815275310835"
      ]
     },
     "execution_count": 282,
     "metadata": {},
     "output_type": "execute_result"
    }
   ],
   "source": [
    "model_gnb.score(x_train, y_train)"
   ]
  },
  {
   "cell_type": "code",
   "execution_count": 283,
   "id": "c1369c8c",
   "metadata": {},
   "outputs": [
    {
     "data": {
      "text/plain": [
       "0.7477797513321492"
      ]
     },
     "execution_count": 283,
     "metadata": {},
     "output_type": "execute_result"
    }
   ],
   "source": [
    "model_gnb.score(x_test, y_test)"
   ]
  },
  {
   "cell_type": "code",
   "execution_count": 284,
   "id": "bf2a152f",
   "metadata": {},
   "outputs": [
    {
     "data": {
      "text/plain": [
       "KNeighborsClassifier()"
      ]
     },
     "execution_count": 284,
     "metadata": {},
     "output_type": "execute_result"
    }
   ],
   "source": [
    "# Create the model\n",
    "model_knn = KNeighborsClassifier()\n",
    "\n",
    "# Train the model\n",
    "model_knn.fit(x_train, y_train)"
   ]
  },
  {
   "cell_type": "code",
   "execution_count": 336,
   "id": "30102041",
   "metadata": {
    "scrolled": true
   },
   "outputs": [
    {
     "name": "stdout",
     "output_type": "stream",
     "text": [
      "[0 0 0 ... 0 0 0]\n"
     ]
    }
   ],
   "source": [
    "# Create the prediction on the test data\n",
    "predictions_knn = model_knn.predict(x_test)\n",
    "\n",
    "# Print the predictions\n",
    "print(predictions_knn)"
   ]
  },
  {
   "cell_type": "code",
   "execution_count": 287,
   "id": "49dce08b",
   "metadata": {},
   "outputs": [
    {
     "data": {
      "text/plain": [
       "0.9338365896980462"
      ]
     },
     "execution_count": 287,
     "metadata": {},
     "output_type": "execute_result"
    }
   ],
   "source": [
    "model_knn.score(x_train, y_train)"
   ]
  },
  {
   "cell_type": "code",
   "execution_count": 288,
   "id": "df192673",
   "metadata": {},
   "outputs": [
    {
     "data": {
      "text/plain": [
       "0.9014209591474245"
      ]
     },
     "execution_count": 288,
     "metadata": {},
     "output_type": "execute_result"
    }
   ],
   "source": [
    "model_knn.score(x_test, y_test)"
   ]
  },
  {
   "cell_type": "code",
   "execution_count": 290,
   "id": "e1012b5e",
   "metadata": {},
   "outputs": [],
   "source": [
    "# Model comparision\n",
    "model_names = ['Logistic Regression', \n",
    "               'Random Forest', \n",
    "               'Decision Tree', \n",
    "               'Naive Bayes', \n",
    "               'K-NN', \n",
    "               'SVC']\n",
    "\n",
    "classifiers = [\n",
    "    LogisticRegression(),\n",
    "    RandomForestClassifier(),\n",
    "    DecisionTreeClassifier(),\n",
    "    GaussianNB(),\n",
    "    KNeighborsClassifier(),\n",
    "    SVC(probability=True)\n",
    "    ]\n",
    "\n",
    "model_cols = []\n",
    "compare_model=pd.DataFrame(columns=model_cols)\n",
    "index=0\n",
    "\n",
    "for name, clf in zip(model_names, classifiers):\n",
    "    clf.fit(x_train,y_train)\n",
    "    compare_model.loc[index,'Classifiers'] = name\n",
    "    compare_model.loc[index,'Train Accuracy'] = clf.score(x_train,y_train)\n",
    "    compare_model.loc[index,'Test Accuracy'] = clf.score(x_test,y_test)\n",
    "    compare_model.loc[index,'Precision'] = precision_score(y_test,clf.predict(x_test))\n",
    "    compare_model.loc[index,'Recall'] = recall_score(y_test,clf.predict(x_test))\n",
    "    compare_model.loc[index,'F1 Score'] = f1_score(y_test,clf.predict(x_test))\n",
    "    compare_model.loc[index, 'ROC-AUC'] = roc_auc_score(y_test, clf.predict_proba(x_test)[:,1])\n",
    "    index+=1"
   ]
  },
  {
   "cell_type": "code",
   "execution_count": 363,
   "id": "192316b4",
   "metadata": {
    "scrolled": false
   },
   "outputs": [
    {
     "data": {
      "text/html": [
       "<div>\n",
       "<style scoped>\n",
       "    .dataframe tbody tr th:only-of-type {\n",
       "        vertical-align: middle;\n",
       "    }\n",
       "\n",
       "    .dataframe tbody tr th {\n",
       "        vertical-align: top;\n",
       "    }\n",
       "\n",
       "    .dataframe thead th {\n",
       "        text-align: right;\n",
       "    }\n",
       "</style>\n",
       "<table border=\"1\" class=\"dataframe\">\n",
       "  <thead>\n",
       "    <tr style=\"text-align: right;\">\n",
       "      <th></th>\n",
       "      <th>Classifiers</th>\n",
       "      <th>Train Accuracy</th>\n",
       "      <th>Test Accuracy</th>\n",
       "      <th>Precision</th>\n",
       "      <th>Recall</th>\n",
       "      <th>F1 Score</th>\n",
       "      <th>ROC-AUC</th>\n",
       "    </tr>\n",
       "  </thead>\n",
       "  <tbody>\n",
       "    <tr>\n",
       "      <th>0</th>\n",
       "      <td>Logistic Regression</td>\n",
       "      <td>0.879440</td>\n",
       "      <td>0.887211</td>\n",
       "      <td>0.744186</td>\n",
       "      <td>0.505263</td>\n",
       "      <td>0.601881</td>\n",
       "      <td>0.902244</td>\n",
       "    </tr>\n",
       "    <tr>\n",
       "      <th>1</th>\n",
       "      <td>Random Forest</td>\n",
       "      <td>1.000000</td>\n",
       "      <td>0.977798</td>\n",
       "      <td>0.966102</td>\n",
       "      <td>0.900000</td>\n",
       "      <td>0.931880</td>\n",
       "      <td>0.993801</td>\n",
       "    </tr>\n",
       "    <tr>\n",
       "      <th>2</th>\n",
       "      <td>Decision Tree</td>\n",
       "      <td>1.000000</td>\n",
       "      <td>0.946714</td>\n",
       "      <td>0.835052</td>\n",
       "      <td>0.852632</td>\n",
       "      <td>0.843750</td>\n",
       "      <td>0.909222</td>\n",
       "    </tr>\n",
       "    <tr>\n",
       "      <th>3</th>\n",
       "      <td>Naive Bayes</td>\n",
       "      <td>0.745782</td>\n",
       "      <td>0.747780</td>\n",
       "      <td>0.368715</td>\n",
       "      <td>0.694737</td>\n",
       "      <td>0.481752</td>\n",
       "      <td>0.818938</td>\n",
       "    </tr>\n",
       "    <tr>\n",
       "      <th>4</th>\n",
       "      <td>K-NN</td>\n",
       "      <td>0.933837</td>\n",
       "      <td>0.901421</td>\n",
       "      <td>0.801527</td>\n",
       "      <td>0.552632</td>\n",
       "      <td>0.654206</td>\n",
       "      <td>0.937140</td>\n",
       "    </tr>\n",
       "    <tr>\n",
       "      <th>5</th>\n",
       "      <td>SVC</td>\n",
       "      <td>0.928286</td>\n",
       "      <td>0.902309</td>\n",
       "      <td>0.844828</td>\n",
       "      <td>0.515789</td>\n",
       "      <td>0.640523</td>\n",
       "      <td>0.935504</td>\n",
       "    </tr>\n",
       "  </tbody>\n",
       "</table>\n",
       "</div>"
      ],
      "text/plain": [
       "           Classifiers  Train Accuracy  Test Accuracy  Precision    Recall  \\\n",
       "0  Logistic Regression        0.879440       0.887211   0.744186  0.505263   \n",
       "1        Random Forest        1.000000       0.977798   0.966102  0.900000   \n",
       "2        Decision Tree        1.000000       0.946714   0.835052  0.852632   \n",
       "3          Naive Bayes        0.745782       0.747780   0.368715  0.694737   \n",
       "4                 K-NN        0.933837       0.901421   0.801527  0.552632   \n",
       "5                  SVC        0.928286       0.902309   0.844828  0.515789   \n",
       "\n",
       "   F1 Score   ROC-AUC  \n",
       "0  0.601881  0.902244  \n",
       "1  0.931880  0.993801  \n",
       "2  0.843750  0.909222  \n",
       "3  0.481752  0.818938  \n",
       "4  0.654206  0.937140  \n",
       "5  0.640523  0.935504  "
      ]
     },
     "execution_count": 363,
     "metadata": {},
     "output_type": "execute_result"
    }
   ],
   "source": [
    "compare_model"
   ]
  },
  {
   "cell_type": "code",
   "execution_count": 292,
   "id": "0efab6a7",
   "metadata": {},
   "outputs": [
    {
     "data": {
      "text/html": [
       "<div>\n",
       "<style scoped>\n",
       "    .dataframe tbody tr th:only-of-type {\n",
       "        vertical-align: middle;\n",
       "    }\n",
       "\n",
       "    .dataframe tbody tr th {\n",
       "        vertical-align: top;\n",
       "    }\n",
       "\n",
       "    .dataframe thead th {\n",
       "        text-align: right;\n",
       "    }\n",
       "</style>\n",
       "<table border=\"1\" class=\"dataframe\">\n",
       "  <thead>\n",
       "    <tr style=\"text-align: right;\">\n",
       "      <th></th>\n",
       "      <th>Classifiers</th>\n",
       "      <th>Train Accuracy</th>\n",
       "      <th>Test Accuracy</th>\n",
       "      <th>Precision</th>\n",
       "      <th>Recall</th>\n",
       "      <th>F1 Score</th>\n",
       "      <th>ROC-AUC</th>\n",
       "    </tr>\n",
       "  </thead>\n",
       "  <tbody>\n",
       "    <tr>\n",
       "      <th>1</th>\n",
       "      <td>Random Forest</td>\n",
       "      <td>1.0</td>\n",
       "      <td>0.977798</td>\n",
       "      <td>0.966102</td>\n",
       "      <td>0.900000</td>\n",
       "      <td>0.93188</td>\n",
       "      <td>0.993801</td>\n",
       "    </tr>\n",
       "    <tr>\n",
       "      <th>2</th>\n",
       "      <td>Decision Tree</td>\n",
       "      <td>1.0</td>\n",
       "      <td>0.946714</td>\n",
       "      <td>0.835052</td>\n",
       "      <td>0.852632</td>\n",
       "      <td>0.84375</td>\n",
       "      <td>0.909222</td>\n",
       "    </tr>\n",
       "  </tbody>\n",
       "</table>\n",
       "</div>"
      ],
      "text/plain": [
       "     Classifiers  Train Accuracy  Test Accuracy  Precision    Recall  \\\n",
       "1  Random Forest             1.0       0.977798   0.966102  0.900000   \n",
       "2  Decision Tree             1.0       0.946714   0.835052  0.852632   \n",
       "\n",
       "   F1 Score   ROC-AUC  \n",
       "1   0.93188  0.993801  \n",
       "2   0.84375  0.909222  "
      ]
     },
     "execution_count": 292,
     "metadata": {},
     "output_type": "execute_result"
    }
   ],
   "source": [
    "compare_model.iloc[1:3]"
   ]
  },
  {
   "cell_type": "code",
   "execution_count": 293,
   "id": "ebd5d191",
   "metadata": {},
   "outputs": [
    {
     "data": {
      "text/plain": [
       "(0.0, 1.0)"
      ]
     },
     "execution_count": 293,
     "metadata": {},
     "output_type": "execute_result"
    },
    {
     "data": {
      "image/png": "[encoded data removed]",
      "text/plain": [
       "<Figure size 432x288 with 1 Axes>"
      ]
     },
     "metadata": {
      "needs_background": "light"
     },
     "output_type": "display_data"
    }
   ],
   "source": [
    "a = compare_model['Classifiers'] == 'Decision Tree'\n",
    "b = compare_model[a]\n",
    "c = b[['Precision', 'Recall', 'F1 Score']]\n",
    "\n",
    "d = c.transpose()\n",
    "dt1 = pd.DataFrame(d).rename(columns={2: 'Value'}).reset_index()\n",
    "# fig, ax = plt.subplots(figsize=(10,5))\n",
    "ax = sns.barplot(x='index', y='Value', data=dt1)\n",
    "ax.set_ylim(0,1)"
   ]
  },
  {
   "cell_type": "code",
   "execution_count": 294,
   "id": "95f1565d",
   "metadata": {
    "scrolled": false
   },
   "outputs": [
    {
     "data": {
      "text/plain": [
       "(0.0, 1.0)"
      ]
     },
     "execution_count": 294,
     "metadata": {},
     "output_type": "execute_result"
    },
    {
     "data": {
      "image/png": "[encoded data removed]",
      "text/plain": [
       "<Figure size 432x288 with 1 Axes>"
      ]
     },
     "metadata": {
      "needs_background": "light"
     },
     "output_type": "display_data"
    }
   ],
   "source": [
    "a = compare_model['Classifiers'] == 'Random Forest'\n",
    "b = compare_model[a]\n",
    "c = b[['Precision', 'Recall', 'F1 Score']]\n",
    "\n",
    "d = c.transpose()\n",
    "dt1 = pd.DataFrame(d).rename(columns={1: 'Value'}).reset_index()\n",
    "# fig, ax = plt.subplots(figsize=(10,5))\n",
    "ax = sns.barplot(x='index', y='Value', data=dt1)\n",
    "ax.set_ylim(0,1)"
   ]
  },
  {
   "cell_type": "code",
   "execution_count": 295,
   "id": "be578a9b",
   "metadata": {},
   "outputs": [],
   "source": [
    "# Probability Prediction\n",
    "probs_lr = model_lr.predict_proba(x_test)"
   ]
  },
  {
   "cell_type": "code",
   "execution_count": 296,
   "id": "fa45e118",
   "metadata": {},
   "outputs": [],
   "source": [
    "probs_rf = model_rf.predict_proba(x_test)"
   ]
  },
  {
   "cell_type": "code",
   "execution_count": 297,
   "id": "8587d6f4",
   "metadata": {},
   "outputs": [],
   "source": [
    "probs_dt = model_dt.predict_proba(x_test)"
   ]
  },
  {
   "cell_type": "code",
   "execution_count": 298,
   "id": "c804282a",
   "metadata": {},
   "outputs": [
    {
     "data": {
      "text/plain": [
       "array([0.1449901 , 0.01627133, 0.19003127, ..., 0.53575183, 0.48805752,\n",
       "       0.01559148])"
      ]
     },
     "execution_count": 298,
     "metadata": {},
     "output_type": "execute_result"
    }
   ],
   "source": [
    "probs_lr[:,1]"
   ]
  },
  {
   "cell_type": "code",
   "execution_count": 299,
   "id": "4ff6deee",
   "metadata": {},
   "outputs": [],
   "source": [
    "auc_lr = roc_auc_score(y_test, probs_lr[:,1])"
   ]
  },
  {
   "cell_type": "code",
   "execution_count": 300,
   "id": "e4ab40e8",
   "metadata": {},
   "outputs": [],
   "source": [
    "auc_lr = roc_auc_score(y_test, probs_lr[:,1])\n",
    "fpr_lr, tpr_lr, thresholds_lr = roc_curve(y_test, probs_lr[:,1])"
   ]
  },
  {
   "cell_type": "code",
   "execution_count": 301,
   "id": "9930e82b",
   "metadata": {},
   "outputs": [],
   "source": [
    "auc_rf = roc_auc_score(y_test, probs_rf[:,1])\n",
    "fpr_rf, tpr_rf, thresholds_rf = roc_curve(y_test, probs_rf[:,1])"
   ]
  },
  {
   "cell_type": "code",
   "execution_count": 302,
   "id": "119d4d62",
   "metadata": {},
   "outputs": [],
   "source": [
    "auc_dt = roc_auc_score(y_test, probs_dt[:,1])\n",
    "fpr_dt, tpr_dt, thresholds_dt = roc_curve(y_test, probs_dt[:,1])"
   ]
  },
  {
   "cell_type": "code",
   "execution_count": 340,
   "id": "0762b08d",
   "metadata": {},
   "outputs": [
    {
     "data": {
      "image/png": "[encoded data removed]",
      "text/plain": [
       "<Figure size 864x504 with 1 Axes>"
      ]
     },
     "metadata": {
      "needs_background": "light"
     },
     "output_type": "display_data"
    }
   ],
   "source": [
    "auc_lr = roc_auc_score(y_test, probs_lr[:,1])\n",
    "fpr_lr, tpr_lr, thresholds_lr = roc_curve(y_test, probs_lr[:,1])\n",
    "\n",
    "auc_rf = roc_auc_score(y_test, probs_rf[:,1])\n",
    "fpr_rf, tpr_rf, thresholds_rf = roc_curve(y_test, probs_rf[:,1])\n",
    "\n",
    "auc_dt = roc_auc_score(y_test, probs_dt[:,1])\n",
    "fpr_dt, tpr_dt, thresholds_dt = roc_curve(y_test, probs_dt[:,1])\n",
    "\n",
    "plt.figure(figsize=(12, 7))\n",
    "plt.plot(fpr_lr, tpr_lr, label=f'AUC (Logistic Regression) = {auc_lr:.2f}')\n",
    "plt.plot(fpr_rf, tpr_rf, label=f'AUC (Random Forests) = {auc_rf:.2f}')\n",
    "plt.plot(fpr_dt, tpr_dt, label=f'AUC (Decision Tree) = {auc_dt:.2f}')\n",
    "plt.plot([0, 1], [0, 1], color='blue', linestyle='--', label='Baseline')\n",
    "plt.title('ROC Curve', size=20)\n",
    "plt.xlabel('False Positive Rate', size=14)\n",
    "plt.ylabel('True Positive Rate', size=14)\n",
    "plt.legend();"
   ]
  },
  {
   "cell_type": "code",
   "execution_count": null,
   "id": "08fc451f",
   "metadata": {},
   "outputs": [],
   "source": [
    "# recall = TP / (TP + FN)\n",
    "# precision = TP / (TP + FP)\n",
    "# F1 Score = 2*(Recall * Precision) / (Recall + Precision)\n",
    "# Accuracy = TP+TN/TP+FP+FN+TN"
   ]
  },
  {
   "cell_type": "code",
   "execution_count": null,
   "id": "7387f3e8",
   "metadata": {},
   "outputs": [],
   "source": [
    "# Provide Explanations \n",
    "To compare with the 6 models - Random Forest performs better than the others."
   ]
  },
  {
   "cell_type": "code",
   "execution_count": 342,
   "id": "33ccd35d",
   "metadata": {},
   "outputs": [],
   "source": [
    "# Building The Structure Pipeline"
   ]
  },
  {
   "cell_type": "code",
   "execution_count": 343,
   "id": "76a6539b",
   "metadata": {},
   "outputs": [],
   "source": [
    "# x_train,x_test,y_train,y_test = train_test_split(df.target, test_size=0.2, random_state=0)\n",
    "# Pipeline Creation\n",
    "# 1. Data Preprocessing by using Standard Scaler\n",
    "# 3. Classifier"
   ]
  },
  {
   "cell_type": "code",
   "execution_count": 344,
   "id": "b51dead6",
   "metadata": {},
   "outputs": [],
   "source": [
    "pipeline_lr=Pipeline([('Scalar1',StandardScaler()),\n",
    "                     ('lr_classifier', LogisticRegression(random_state=0))])\n",
    "                    "
   ]
  },
  {
   "cell_type": "code",
   "execution_count": 345,
   "id": "b016e16e",
   "metadata": {},
   "outputs": [],
   "source": [
    "pipeline_sv=Pipeline([('Scalar2', StandardScaler()),\n",
    "                     ('sv_classifier', SVC())])"
   ]
  },
  {
   "cell_type": "code",
   "execution_count": 346,
   "id": "bff43259",
   "metadata": {},
   "outputs": [],
   "source": [
    "pipeline_rf=Pipeline([('Scalar3', StandardScaler()),\n",
    "                     ('rf_classifier', RandomForestClassifier())])"
   ]
  },
  {
   "cell_type": "code",
   "execution_count": 347,
   "id": "50217416",
   "metadata": {},
   "outputs": [],
   "source": [
    "pipeline_dt=Pipeline([('Scalar4', StandardScaler()),\n",
    "                     ('dt_classifier', DecisionTreeClassifier())])"
   ]
  },
  {
   "cell_type": "code",
   "execution_count": 348,
   "id": "a9889150",
   "metadata": {},
   "outputs": [],
   "source": [
    "pipeline_knn=Pipeline([('Scalar5', StandardScaler()),\n",
    "                      ('knn_classifier', KNeighborsClassifier())])"
   ]
  },
  {
   "cell_type": "code",
   "execution_count": 349,
   "id": "90860886",
   "metadata": {},
   "outputs": [],
   "source": [
    "pipeline_knn=Pipeline([('Scalar5', StandardScaler()),\n",
    "                      ('gnb_classifier', GaussianNB())])"
   ]
  },
  {
   "cell_type": "code",
   "execution_count": 350,
   "id": "ab024b1c",
   "metadata": {},
   "outputs": [],
   "source": [
    "# Making the list of Pipeline\n",
    "pipelines = [pipeline_lr, pipeline_sv, pipeline_rf, pipeline_dt, pipeline_knn, pipeline_gnb]"
   ]
  },
  {
   "cell_type": "code",
   "execution_count": 351,
   "id": "9d60cb16",
   "metadata": {},
   "outputs": [],
   "source": [
    "best_accuracy=0.0\n",
    "best_classifier=0\n",
    "best_pipeline=\"\""
   ]
  },
  {
   "cell_type": "code",
   "execution_count": 352,
   "id": "b888d47a",
   "metadata": {},
   "outputs": [],
   "source": [
    "# Dictionary of pipelines and classifier for ease of reference\n",
    "pipe_dict = {0: 'Logistic Regression', 1: SVC, 2: RandomForestClassifier, 3: DecisionTreeClassifier, 4: KNeighborsClassifier, 5: GaussianNB}\n",
    "\n",
    "# Fit the pipelines\n",
    "for pipe in pipelines:\n",
    "    #print(pipe)\n",
    "    pipe.fit(x_train, y_train)"
   ]
  },
  {
   "cell_type": "code",
   "execution_count": 353,
   "id": "828c5db9",
   "metadata": {},
   "outputs": [
    {
     "data": {
      "text/plain": [
       "Pipeline(steps=[('Scalar6', StandardScaler()), ('pca5', PCA(n_components=2)),\n",
       "                ('gnb_classifier', GaussianNB())])"
      ]
     },
     "execution_count": 353,
     "metadata": {},
     "output_type": "execute_result"
    }
   ],
   "source": [
    "pipe.fit(x_train, y_train)"
   ]
  },
  {
   "cell_type": "code",
   "execution_count": 354,
   "id": "ff3fdc6f",
   "metadata": {
    "scrolled": false
   },
   "outputs": [
    {
     "name": "stdout",
     "output_type": "stream",
     "text": [
      "Logistic Regression Test Accuracy: 0.8872113676731794\n",
      "<class 'sklearn.svm._classes.SVC'> Test Accuracy: 0.9023090586145648\n",
      "<class 'sklearn.ensemble._forest.RandomForestClassifier'> Test Accuracy: 0.9751332149200711\n",
      "<class 'sklearn.tree._classes.DecisionTreeClassifier'> Test Accuracy: 0.9502664298401421\n",
      "<class 'sklearn.neighbors._classification.KNeighborsClassifier'> Test Accuracy: 0.9014209591474245\n",
      "<class 'sklearn.naive_bayes.GaussianNB'> Test Accuracy: 0.8312611012433393\n"
     ]
    }
   ],
   "source": [
    "for i, model in enumerate(pipelines):\n",
    "    print(\"{} Test Accuracy: {}\".format(pipe_dict[i], model.score(x_test, y_test)))"
   ]
  },
  {
   "cell_type": "code",
   "execution_count": 355,
   "id": "02bb66bc",
   "metadata": {},
   "outputs": [
    {
     "name": "stdout",
     "output_type": "stream",
     "text": [
      "Classifier with best accuracy:<class 'sklearn.svm._classes.SVC'>\n"
     ]
    }
   ],
   "source": [
    "for i, model in enumerate(pipelines):\n",
    "    if model.score(x_test, y_test)>best_accuracy:\n",
    "        best_accuracy=model.score(x_test, y_test)\n",
    "        best_pipeline=model\n",
    "        best_classifier=1\n",
    "print('Classifier with best accuracy:{}'.format(pipe_dict[best_classifier]))"
   ]
  },
  {
   "cell_type": "code",
   "execution_count": null,
   "id": "aad6d6f8",
   "metadata": {},
   "outputs": [],
   "source": [
    "END"
   ]
  },
  {
   "cell_type": "code",
   "execution_count": null,
   "id": "9177d385",
   "metadata": {},
   "outputs": [],
    "source": [
   ]
  }
 ],
 "metadata": {
  "kernelspec": {
   "display_name": "Python 3",
   "language": "python",
   "name": "python3"
  },
  "language_info": {
   "codemirror_mode": {
    "name": "ipython",
    "version": 3
   },
   "file_extension": ".py",
   "mimetype": "text/x-python",
   "name": "python",
   "nbconvert_exporter": "python",
   "pygments_lexer": "ipython3",
   "version": "3.8.8"
  }
 },
 "nbformat": 4,
 "nbformat_minor": 5
}
